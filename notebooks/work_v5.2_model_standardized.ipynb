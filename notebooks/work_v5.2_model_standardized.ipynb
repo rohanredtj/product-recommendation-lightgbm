{
 "cells": [
  {
   "cell_type": "code",
   "execution_count": null,
   "metadata": {},
   "outputs": [],
   "source": [
    "import pandas as pd\n",
    "\n",
    "from sklearn.model_selection import train_test_split\n",
    "from xgboost import XGBClassifier\n",
    "from sklearn.ensemble import RandomForestClassifier\n",
    "from imblearn.ensemble import BalancedRandomForestClassifier\n",
    "\n",
    "from sklearn.metrics import (accuracy_score, classification_report,\n",
    "                             confusion_matrix, roc_auc_score)\n",
    "\n",
    "from sklearn.model_selection import StratifiedKFold\n",
    "from sklearn.model_selection import cross_val_score\n",
    "\n",
    "import optuna\n",
    "\n",
    "import timeit\n",
    "import warnings\n",
    "warnings.simplefilter(action='ignore')\n",
    "\n",
    "import numpy as np"
   ]
  },
  {
   "cell_type": "code",
   "execution_count": null,
   "metadata": {},
   "outputs": [],
   "source": []
  },
  {
   "cell_type": "code",
   "execution_count": null,
   "metadata": {},
   "outputs": [],
   "source": [
    "CO_data_path = '/home/ubuntu/workspace_rohan/project/data/processed/CO_processed_timeseries_stan.csv'\n",
    "report_path = '/home/ubuntu/workspace_rohan/project/reports/model_performance/work_v5.2_model_standardized.txt'"
   ]
  },
  {
   "cell_type": "code",
   "execution_count": null,
   "metadata": {},
   "outputs": [],
   "source": [
    "n_trials = 15"
   ]
  },
  {
   "cell_type": "code",
   "execution_count": null,
   "metadata": {},
   "outputs": [],
   "source": [
    "report_object = open(report_path,'a')"
   ]
  },
  {
   "cell_type": "code",
   "execution_count": null,
   "metadata": {},
   "outputs": [],
   "source": [
    "CO_data = pd.read_csv(CO_data_path)"
   ]
  },
  {
   "cell_type": "code",
   "execution_count": null,
   "metadata": {},
   "outputs": [],
   "source": [
    "CO_data['fecha_de_visita_dt'] = pd.to_datetime(CO_data['fecha_de_visita'], format=\"%Y-%m-%d\")"
   ]
  },
  {
   "cell_type": "code",
   "execution_count": null,
   "metadata": {},
   "outputs": [],
   "source": [
    "not_bought_count = CO_data.bought_in_the_visit.value_counts()[0]\n",
    "bought_count = CO_data.bought_in_the_visit.value_counts()[1]\n",
    "\n",
    "baseline = round(max(bought_count, not_bought_count)/ (bought_count + not_bought_count),2)\n",
    "baseline, bought_count, not_bought_count"
   ]
  },
  {
   "cell_type": "code",
   "execution_count": null,
   "metadata": {},
   "outputs": [],
   "source": [
    "print(\"Baseline: \", baseline, file=report_object)"
   ]
  },
  {
   "cell_type": "code",
   "execution_count": null,
   "metadata": {},
   "outputs": [],
   "source": [
    "features = ['week_1_standardized', 'week_2_standardized', 'week_3_standardized',\n",
    "       'week_4_standardized', 'week_5_standardized', 'week_6_standardized',\n",
    "       'week_7_standardized', 'week_8_standardized', 'week_9_standardized',\n",
    "       'week_10_standardized', 'week_11_standardized', 'week_12_standardized',\n",
    "       'week_13_standardized', 'week_14_standardized', 'week_15_standardized',\n",
    "       'week_16_standardized', 'week_17_standardized', 'week_18_standardized',\n",
    "       'week_19_standardized', 'cod_canal', 'cod_giro', 'cod_subgiro',\n",
    "       'desc_region', 'desc_subregion', 'desc_division', 'cod_zona', 'ruta',\n",
    "       'cod_modulo', 'categoria', 'marca', 'desc_sabor', 'desc_tipoenvase',\n",
    "       'desc_subfamilia', 'contenido',\n",
    "       'product_sales_amount_last_3m', 'product_trnx_last_3m',\n",
    "       'normalized_rotation', 'normalized_freq', 'total_sales_last_3m',\n",
    "       'total_trnx_last_3m', 'ratio_sales_last_3m', 'ratio_trnx_last_3m',\n",
    "       'bought_last_year_flag', 'prod_coverage_bucket']"
   ]
  },
  {
   "cell_type": "code",
   "execution_count": null,
   "metadata": {},
   "outputs": [],
   "source": []
  },
  {
   "cell_type": "code",
   "execution_count": null,
   "metadata": {},
   "outputs": [],
   "source": [
    "print('\\n### Direct train/test (XGBoost)', file=report_object)"
   ]
  },
  {
   "cell_type": "code",
   "execution_count": null,
   "metadata": {},
   "outputs": [],
   "source": [
    "X = CO_data[features]\n",
    "y = CO_data[\"bought_in_the_visit\"]"
   ]
  },
  {
   "cell_type": "code",
   "execution_count": null,
   "metadata": {},
   "outputs": [],
   "source": [
    "seed = 7\n",
    "test_size = 0.33\n",
    "X_train, X_test, y_train, y_test = train_test_split(X, y, test_size=test_size, random_state=seed)"
   ]
  },
  {
   "cell_type": "code",
   "execution_count": null,
   "metadata": {},
   "outputs": [],
   "source": [
    "def objective(trial):\n",
    "    # Fit train data\n",
    "\n",
    "    learning_rate = trial.suggest_loguniform(\"lr\", 1e-3, 1)\n",
    "    n_estimators = trial.suggest_int(\"n_est\", 1, 750)\n",
    "    #alp = trial.suggest_categorical('alp', [1.0, 1.3, 1.4])\n",
    "    max_depth = trial.suggest_int(\"m_depth\", 1, 20)\n",
    "    reg_alpha = trial.suggest_loguniform(\"alpha\", 1e-10, 1)\n",
    "    reg_lamb = trial.suggest_loguniform(\"reg_lamb\", 1e-10, 1)\n",
    "    gamma = trial.suggest_float(\"gamma\", 0.1, 1)\n",
    "    col_tree = trial.suggest_float(\"colt_tree\", 0.5, 1)\n",
    "    min_child = trial.suggest_loguniform(\"min_child\", 0.1, 20)\n",
    "    subsamp = trial.suggest_float(\"subsamp\", 0.01, 1)\n",
    "\n",
    "    model = XGBClassifier(\n",
    "        use_label_encoder=False,\n",
    "        learning_rate=learning_rate,\n",
    "        n_estimators=n_estimators,\n",
    "        min_child_weight=min_child,\n",
    "        gamma=gamma,\n",
    "        subsample=subsamp,\n",
    "        colsample_bytree=col_tree,\n",
    "        objective=\"binary:logistic\",\n",
    "        seed=seed,\n",
    "        reg_alpha = reg_alpha,\n",
    "        max_depth = max_depth,\n",
    "        reg_lambda = reg_lamb\n",
    "    )\n",
    "\n",
    "    model.fit(X_train, y_train)\n",
    "\n",
    "    y_pred = model.predict(X_test)\n",
    "    y_pred_proba = model.predict_proba(X_test)\n",
    "    predictions = [round(value) for value in y_pred]\n",
    "    \n",
    "    auc = roc_auc_score(y_test, y_pred_proba[:, 1])\n",
    "    \n",
    "    return auc"
   ]
  },
  {
   "cell_type": "code",
   "execution_count": null,
   "metadata": {},
   "outputs": [],
   "source": [
    "starttime = timeit.default_timer()\n",
    "print(\"The start time is :\",starttime, file=report_object)\n",
    "\n",
    "study = optuna.create_study(direction=\"maximize\")\n",
    "study.optimize(objective, n_trials=n_trials)\n",
    "\n",
    "print(\"Total training time is :\", timeit.default_timer() - starttime, file=report_object)\n",
    "\n",
    "print(\"Number of finished trials: {}\".format(len(study.trials)), file=report_object)\n",
    "\n",
    "print(\"Best trial:\", file=report_object)\n",
    "trial = study.best_trial\n",
    "print(trial, file=report_object)\n",
    "\n",
    "print(\"  Value: {}\".format(trial.value), file=report_object)\n",
    "\n",
    "print(\"  Params: \", file=report_object)\n",
    "for key, value in trial.params.items():\n",
    "    print(\"    {}: {}\".format(key, value), file=report_object)"
   ]
  },
  {
   "cell_type": "code",
   "execution_count": null,
   "metadata": {},
   "outputs": [],
   "source": []
  },
  {
   "cell_type": "code",
   "execution_count": null,
   "metadata": {},
   "outputs": [],
   "source": [
    "print(\"\\n### Direct cross validation (XGBoost)\", file=report_object)"
   ]
  },
  {
   "cell_type": "code",
   "execution_count": null,
   "metadata": {},
   "outputs": [],
   "source": [
    "X = CO_data[features]\n",
    "y = CO_data[\"bought_in_the_visit\"]\n",
    "\n",
    "seed = 7\n",
    "\n",
    "kfold = StratifiedKFold(n_splits=5)"
   ]
  },
  {
   "cell_type": "code",
   "execution_count": null,
   "metadata": {},
   "outputs": [],
   "source": [
    "def objective(trial):\n",
    "    # Fit train data\n",
    "\n",
    "    learning_rate = trial.suggest_loguniform(\"lr\", 1e-3, 1)\n",
    "    n_estimators = trial.suggest_int(\"n_est\", 1, 750)\n",
    "    #alp = trial.suggest_categorical('alp', [1.0, 1.3, 1.4])\n",
    "    max_depth = trial.suggest_int(\"m_depth\", 1, 20)\n",
    "    reg_alpha = trial.suggest_loguniform(\"alpha\", 1e-10, 1)\n",
    "    reg_lamb = trial.suggest_loguniform(\"reg_lamb\", 1e-10, 1)\n",
    "    gamma = trial.suggest_float(\"gamma\", 0.1, 1)\n",
    "    col_tree = trial.suggest_float(\"colt_tree\", 0.5, 1)\n",
    "    min_child = trial.suggest_loguniform(\"min_child\", 0.1, 20)\n",
    "    subsamp = trial.suggest_float(\"subsamp\", 0.01, 1)\n",
    "\n",
    "    model = XGBClassifier(\n",
    "        use_label_encoder=False,\n",
    "        learning_rate=learning_rate,\n",
    "        n_estimators=n_estimators,\n",
    "        min_child_weight=min_child,\n",
    "        gamma=gamma,\n",
    "        subsample=subsamp,\n",
    "        colsample_bytree=col_tree,\n",
    "        objective=\"binary:logistic\",\n",
    "        seed=seed,\n",
    "        reg_alpha = reg_alpha,\n",
    "        max_depth = max_depth,\n",
    "        reg_lambda = reg_lamb\n",
    "    )\n",
    "\n",
    "    results = cross_val_score(model, X, y, scoring='roc_auc', cv=kfold)\n",
    "\n",
    "    auc = np.mean(results)\n",
    "    \n",
    "    return auc"
   ]
  },
  {
   "cell_type": "code",
   "execution_count": null,
   "metadata": {
    "scrolled": true
   },
   "outputs": [],
   "source": [
    "starttime = timeit.default_timer()\n",
    "print(\"The start time is :\",starttime, file=report_object)\n",
    "\n",
    "study = optuna.create_study(direction=\"maximize\")\n",
    "study.optimize(objective, n_trials=n_trials)\n",
    "\n",
    "print(\"Total training time is :\", timeit.default_timer() - starttime, file=report_object)\n",
    "\n",
    "print(\"Number of finished trials: {}\".format(len(study.trials)), file=report_object)\n",
    "\n",
    "print(\"Best trial:\", file=report_object)\n",
    "trial = study.best_trial\n",
    "print(trial, file=report_object)\n",
    "\n",
    "print(\"  Value: {}\".format(trial.value), file=report_object)\n",
    "\n",
    "print(\"  Params: \", file=report_object)\n",
    "for key, value in trial.params.items():\n",
    "    print(\"    {}: {}\".format(key, value), file=report_object)"
   ]
  },
  {
   "cell_type": "code",
   "execution_count": null,
   "metadata": {},
   "outputs": [],
   "source": []
  },
  {
   "cell_type": "code",
   "execution_count": null,
   "metadata": {},
   "outputs": [],
   "source": []
  },
  {
   "cell_type": "code",
   "execution_count": null,
   "metadata": {},
   "outputs": [],
   "source": [
    "print(\"\\n### Direct held out (last 2 months) (XGBoost)\", file=report_object)"
   ]
  },
  {
   "cell_type": "code",
   "execution_count": null,
   "metadata": {},
   "outputs": [],
   "source": [
    "train = CO_data[CO_data['fecha_de_visita_dt'] < pd.to_datetime('2021-03-31', format=\"%Y-%m-%d\")]\n",
    "test = CO_data[CO_data['fecha_de_visita_dt'] >= pd.to_datetime('2021-03-31', format=\"%Y-%m-%d\")]\n",
    "\n",
    "X_train = train[features]\n",
    "X_test = test[features]\n",
    "y_train = train[\"bought_in_the_visit\"]\n",
    "y_test = test[\"bought_in_the_visit\"]"
   ]
  },
  {
   "cell_type": "code",
   "execution_count": null,
   "metadata": {},
   "outputs": [],
   "source": [
    "def objective(trial):\n",
    "    # Fit train data\n",
    "\n",
    "    learning_rate = trial.suggest_loguniform(\"lr\", 1e-3, 1)\n",
    "    n_estimators = trial.suggest_int(\"n_est\", 1, 750)\n",
    "    #alp = trial.suggest_categorical('alp', [1.0, 1.3, 1.4])\n",
    "    max_depth = trial.suggest_int(\"m_depth\", 1, 20)\n",
    "    reg_alpha = trial.suggest_loguniform(\"alpha\", 1e-10, 1)\n",
    "    reg_lamb = trial.suggest_loguniform(\"reg_lamb\", 1e-10, 1)\n",
    "    gamma = trial.suggest_float(\"gamma\", 0.1, 1)\n",
    "    col_tree = trial.suggest_float(\"colt_tree\", 0.5, 1)\n",
    "    min_child = trial.suggest_loguniform(\"min_child\", 0.1, 20)\n",
    "    subsamp = trial.suggest_float(\"subsamp\", 0.01, 1)\n",
    "\n",
    "    model = XGBClassifier(\n",
    "        use_label_encoder=False,\n",
    "        learning_rate=learning_rate,\n",
    "        n_estimators=n_estimators,\n",
    "        min_child_weight=min_child,\n",
    "        gamma=gamma,\n",
    "        subsample=subsamp,\n",
    "        colsample_bytree=col_tree,\n",
    "        objective=\"binary:logistic\",\n",
    "        seed=seed,\n",
    "        reg_alpha = reg_alpha,\n",
    "        max_depth = max_depth,\n",
    "        reg_lambda = reg_lamb\n",
    "    )\n",
    "\n",
    "    model.fit(X_train, y_train)\n",
    "\n",
    "    y_pred = model.predict(X_test)\n",
    "    y_pred_proba = model.predict_proba(X_test)\n",
    "    predictions = [round(value) for value in y_pred]\n",
    "    \n",
    "    auc = roc_auc_score(y_test, y_pred_proba[:, 1])\n",
    "    \n",
    "    return auc"
   ]
  },
  {
   "cell_type": "code",
   "execution_count": null,
   "metadata": {},
   "outputs": [],
   "source": [
    "starttime = timeit.default_timer()\n",
    "print(\"The start time is :\",starttime, file=report_object)\n",
    "\n",
    "study = optuna.create_study(direction=\"maximize\")\n",
    "study.optimize(objective, n_trials=n_trials)\n",
    "\n",
    "print(\"Total training time is :\", timeit.default_timer() - starttime, file=report_object)\n",
    "\n",
    "print(\"Number of finished trials: {}\".format(len(study.trials)), file=report_object)\n",
    "\n",
    "print(\"Best trial:\", file=report_object)\n",
    "trial = study.best_trial\n",
    "print(trial, file=report_object)\n",
    "\n",
    "print(\"  Value: {}\".format(trial.value), file=report_object)\n",
    "\n",
    "print(\"  Params: \", file=report_object)\n",
    "for key, value in trial.params.items():\n",
    "    print(\"    {}: {}\".format(key, value), file=report_object)"
   ]
  },
  {
   "cell_type": "code",
   "execution_count": null,
   "metadata": {},
   "outputs": [],
   "source": []
  },
  {
   "cell_type": "code",
   "execution_count": null,
   "metadata": {},
   "outputs": [],
   "source": [
    "print(\"\\n### Direct train/test (Balanced Random Forest)\", file=report_object)"
   ]
  },
  {
   "cell_type": "code",
   "execution_count": null,
   "metadata": {},
   "outputs": [],
   "source": [
    "X = CO_data[features]\n",
    "y = CO_data[\"bought_in_the_visit\"]\n",
    "\n",
    "seed = 7\n",
    "test_size = 0.33\n",
    "X_train, X_test, y_train, y_test = train_test_split(X, y, test_size=test_size, random_state=seed)"
   ]
  },
  {
   "cell_type": "code",
   "execution_count": null,
   "metadata": {},
   "outputs": [],
   "source": [
    "def objective(trial):\n",
    "    # Fit train data\n",
    "\n",
    "    n_estimators = trial.suggest_int(\"n_est\", 1, 750)\n",
    "    \n",
    "    model = BalancedRandomForestClassifier(\n",
    "        n_estimators=n_estimators,\n",
    "        random_state=seed\n",
    "        \n",
    "    )\n",
    "\n",
    "    model.fit(X_train, y_train)\n",
    "\n",
    "    y_pred = model.predict(X_test)\n",
    "    y_pred_proba = model.predict_proba(X_test)\n",
    "    predictions = [round(value) for value in y_pred]\n",
    "    \n",
    "    auc = roc_auc_score(y_test, y_pred_proba[:, 1])\n",
    "    \n",
    "    return auc"
   ]
  },
  {
   "cell_type": "code",
   "execution_count": null,
   "metadata": {},
   "outputs": [],
   "source": [
    "starttime = timeit.default_timer()\n",
    "print(\"The start time is :\",starttime, file=report_object)\n",
    "\n",
    "study = optuna.create_study(direction=\"maximize\")\n",
    "study.optimize(objective, n_trials=n_trials)\n",
    "\n",
    "print(\"Total training time is :\", timeit.default_timer() - starttime, file=report_object)\n",
    "\n",
    "print(\"Number of finished trials: {}\".format(len(study.trials)), file=report_object)\n",
    "\n",
    "print(\"Best trial:\", file=report_object)\n",
    "trial = study.best_trial\n",
    "print(trial, file=report_object)\n",
    "\n",
    "print(\"  Value: {}\".format(trial.value), file=report_object)\n",
    "\n",
    "print(\"  Params: \", file=report_object)\n",
    "for key, value in trial.params.items():\n",
    "    print(\"    {}: {}\".format(key, value), file=report_object)"
   ]
  },
  {
   "cell_type": "code",
   "execution_count": null,
   "metadata": {},
   "outputs": [],
   "source": []
  },
  {
   "cell_type": "code",
   "execution_count": null,
   "metadata": {},
   "outputs": [],
   "source": []
  },
  {
   "cell_type": "code",
   "execution_count": null,
   "metadata": {},
   "outputs": [],
   "source": [
    "print(\"\\n### Direct cross validation (Balanced Random Forest)\", file=report_object)"
   ]
  },
  {
   "cell_type": "code",
   "execution_count": null,
   "metadata": {},
   "outputs": [],
   "source": [
    "X = CO_data[features]\n",
    "y = CO_data[\"bought_in_the_visit\"]\n",
    "\n",
    "kfold = StratifiedKFold(n_splits=5)"
   ]
  },
  {
   "cell_type": "code",
   "execution_count": null,
   "metadata": {},
   "outputs": [],
   "source": [
    "def objective(trial):\n",
    "    \n",
    "    n_estimators = trial.suggest_int(\"n_est\", 1, 750)\n",
    "    \n",
    "    model = BalancedRandomForestClassifier(\n",
    "        n_estimators=n_estimators,\n",
    "        random_state=seed\n",
    "        \n",
    "    )\n",
    "    \n",
    "    results = cross_val_score(model, X, y, scoring='roc_auc', cv=kfold)\n",
    "\n",
    "    auc = np.mean(results)\n",
    "    \n",
    "    return auc"
   ]
  },
  {
   "cell_type": "code",
   "execution_count": null,
   "metadata": {},
   "outputs": [],
   "source": [
    "starttime = timeit.default_timer()\n",
    "print(\"The start time is :\",starttime, file=report_object)\n",
    "\n",
    "study = optuna.create_study(direction=\"maximize\")\n",
    "study.optimize(objective, n_trials=n_trials)\n",
    "\n",
    "print(\"Total training time is :\", timeit.default_timer() - starttime, file=report_object)\n",
    "\n",
    "print(\"Number of finished trials: {}\".format(len(study.trials)), file=report_object)\n",
    "\n",
    "print(\"Best trial:\", file=report_object)\n",
    "trial = study.best_trial\n",
    "print(trial, file=report_object)\n",
    "\n",
    "print(\"  Value: {}\".format(trial.value), file=report_object)\n",
    "\n",
    "print(\"  Params: \", file=report_object)\n",
    "for key, value in trial.params.items():\n",
    "    print(\"    {}: {}\".format(key, value), file=report_object)"
   ]
  },
  {
   "cell_type": "code",
   "execution_count": null,
   "metadata": {},
   "outputs": [],
   "source": []
  },
  {
   "cell_type": "code",
   "execution_count": null,
   "metadata": {},
   "outputs": [],
   "source": []
  },
  {
   "cell_type": "code",
   "execution_count": null,
   "metadata": {},
   "outputs": [],
   "source": []
  },
  {
   "cell_type": "code",
   "execution_count": null,
   "metadata": {},
   "outputs": [],
   "source": [
    "print(\"\\n### Direct held out (last 2 months) (Balanced Random Forest)\", file=report_object)"
   ]
  },
  {
   "cell_type": "code",
   "execution_count": null,
   "metadata": {},
   "outputs": [],
   "source": [
    "train = CO_data[CO_data['fecha_de_visita_dt'] < pd.to_datetime('2021-03-31', format=\"%Y-%m-%d\")]\n",
    "test = CO_data[CO_data['fecha_de_visita_dt'] >= pd.to_datetime('2021-03-31', format=\"%Y-%m-%d\")]\n",
    "\n",
    "seed = 7\n",
    "\n",
    "X_train = train[features]\n",
    "X_test = test[features]\n",
    "y_train = train[\"bought_in_the_visit\"]\n",
    "y_test = test[\"bought_in_the_visit\"]"
   ]
  },
  {
   "cell_type": "code",
   "execution_count": null,
   "metadata": {},
   "outputs": [],
   "source": [
    "def objective(trial):\n",
    "    # Fit train data\n",
    "\n",
    "    n_estimators = trial.suggest_int(\"n_est\", 1, 750)\n",
    "    \n",
    "    model = BalancedRandomForestClassifier(\n",
    "        n_estimators=n_estimators,\n",
    "        random_state=seed\n",
    "        \n",
    "    )\n",
    "\n",
    "    model.fit(X_train, y_train)\n",
    "\n",
    "    y_pred = model.predict(X_test)\n",
    "    y_pred_proba = model.predict_proba(X_test)\n",
    "    predictions = [round(value) for value in y_pred]\n",
    "    \n",
    "    auc = roc_auc_score(y_test, y_pred_proba[:, 1])\n",
    "    \n",
    "    return auc"
   ]
  },
  {
   "cell_type": "code",
   "execution_count": null,
   "metadata": {},
   "outputs": [],
   "source": [
    "starttime = timeit.default_timer()\n",
    "print(\"The start time is :\",starttime, file=report_object)\n",
    "\n",
    "study = optuna.create_study(direction=\"maximize\")\n",
    "study.optimize(objective, n_trials=n_trials)\n",
    "\n",
    "print(\"Total training time is :\", timeit.default_timer() - starttime, file=report_object)\n",
    "\n",
    "print(\"Number of finished trials: {}\".format(len(study.trials)), file=report_object)\n",
    "\n",
    "print(\"Best trial:\", file=report_object)\n",
    "trial = study.best_trial\n",
    "print(trial, file=report_object)\n",
    "\n",
    "print(\"  Value: {}\".format(trial.value), file=report_object)\n",
    "\n",
    "print(\"  Params: \", file=report_object)\n",
    "for key, value in trial.params.items():\n",
    "    print(\"    {}: {}\".format(key, value), file=report_object)"
   ]
  },
  {
   "cell_type": "code",
   "execution_count": null,
   "metadata": {},
   "outputs": [],
   "source": []
  },
  {
   "cell_type": "code",
   "execution_count": null,
   "metadata": {},
   "outputs": [],
   "source": []
  },
  {
   "cell_type": "code",
   "execution_count": null,
   "metadata": {},
   "outputs": [],
   "source": []
  },
  {
   "cell_type": "code",
   "execution_count": null,
   "metadata": {},
   "outputs": [],
   "source": [
    "report_object.close()"
   ]
  },
  {
   "cell_type": "code",
   "execution_count": null,
   "metadata": {},
   "outputs": [],
   "source": []
  },
  {
   "cell_type": "code",
   "execution_count": null,
   "metadata": {},
   "outputs": [],
   "source": []
  },
  {
   "cell_type": "code",
   "execution_count": null,
   "metadata": {},
   "outputs": [],
   "source": []
  },
  {
   "cell_type": "code",
   "execution_count": null,
   "metadata": {},
   "outputs": [],
   "source": []
  },
  {
   "cell_type": "code",
   "execution_count": null,
   "metadata": {},
   "outputs": [],
   "source": []
  },
  {
   "cell_type": "code",
   "execution_count": null,
   "metadata": {},
   "outputs": [],
   "source": []
  },
  {
   "cell_type": "code",
   "execution_count": null,
   "metadata": {},
   "outputs": [],
   "source": []
  },
  {
   "cell_type": "code",
   "execution_count": null,
   "metadata": {},
   "outputs": [],
   "source": []
  },
  {
   "cell_type": "code",
   "execution_count": null,
   "metadata": {},
   "outputs": [],
   "source": []
  },
  {
   "cell_type": "code",
   "execution_count": null,
   "metadata": {},
   "outputs": [],
   "source": []
  },
  {
   "cell_type": "code",
   "execution_count": null,
   "metadata": {},
   "outputs": [],
   "source": []
  },
  {
   "cell_type": "code",
   "execution_count": null,
   "metadata": {},
   "outputs": [],
   "source": []
  },
  {
   "cell_type": "code",
   "execution_count": null,
   "metadata": {},
   "outputs": [],
   "source": []
  },
  {
   "cell_type": "code",
   "execution_count": null,
   "metadata": {},
   "outputs": [],
   "source": []
  },
  {
   "cell_type": "code",
   "execution_count": null,
   "metadata": {},
   "outputs": [],
   "source": []
  },
  {
   "cell_type": "code",
   "execution_count": null,
   "metadata": {},
   "outputs": [],
   "source": []
  },
  {
   "cell_type": "code",
   "execution_count": null,
   "metadata": {},
   "outputs": [],
   "source": []
  },
  {
   "cell_type": "code",
   "execution_count": null,
   "metadata": {},
   "outputs": [],
   "source": []
  },
  {
   "cell_type": "code",
   "execution_count": null,
   "metadata": {},
   "outputs": [],
   "source": []
  }
 ],
 "metadata": {
  "kernelspec": {
   "display_name": "Python 3",
   "language": "python",
   "name": "python3"
  },
  "language_info": {
   "codemirror_mode": {
    "name": "ipython",
    "version": 3
   },
   "file_extension": ".py",
   "mimetype": "text/x-python",
   "name": "python",
   "nbconvert_exporter": "python",
   "pygments_lexer": "ipython3",
   "version": "3.7.6"
  }
 },
 "nbformat": 4,
 "nbformat_minor": 4
}
