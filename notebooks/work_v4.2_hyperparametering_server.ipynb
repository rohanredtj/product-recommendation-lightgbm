{
 "cells": [
  {
   "cell_type": "code",
   "execution_count": 14,
   "metadata": {},
   "outputs": [],
   "source": [
    "import pandas as pd\n",
    "\n",
    "from sklearn.model_selection import train_test_split\n",
    "from xgboost import XGBClassifier\n",
    "from sklearn.ensemble import RandomForestClassifier\n",
    "\n",
    "from sklearn.metrics import (accuracy_score, classification_report,\n",
    "                             confusion_matrix, roc_auc_score)\n",
    "\n",
    "from sklearn.model_selection import KFold\n",
    "from sklearn.model_selection import cross_val_score\n",
    "\n",
    "import timeit\n",
    "import warnings\n",
    "warnings.simplefilter(action='ignore')"
   ]
  },
  {
   "cell_type": "code",
   "execution_count": 4,
   "metadata": {},
   "outputs": [],
   "source": [
    "import optuna"
   ]
  },
  {
   "cell_type": "code",
   "execution_count": 5,
   "metadata": {},
   "outputs": [],
   "source": [
    "CO_processed_path = '/home/ubuntu/workspace_rohan/project/data/processed/CO_processed.csv'\n",
    "CO_timeseries_path = '/home/ubuntu/workspace_rohan/project/data/processed/CO_timeseries.csv'"
   ]
  },
  {
   "cell_type": "code",
   "execution_count": 6,
   "metadata": {},
   "outputs": [],
   "source": [
    "data = pd.read_csv(CO_processed_path)\n",
    "data = data.drop([\"Unnamed: 0\"],axis=1)"
   ]
  },
  {
   "cell_type": "code",
   "execution_count": 7,
   "metadata": {},
   "outputs": [],
   "source": [
    "data_tseries = pd.read_csv(CO_timeseries_path)\n",
    "data_tseries = data_tseries.drop([\"Unnamed: 0\"],axis=1)"
   ]
  },
  {
   "cell_type": "code",
   "execution_count": 8,
   "metadata": {},
   "outputs": [],
   "source": [
    "data_tseries = pd.merge(data_tseries, data, how='left', left_on=['fecha_de_visita', 'codigo_de_cliente', 'codigo_de_producto'], right_on=['fecha_de_visita', 'codigo_de_cliente', 'codigo_de_producto'])"
   ]
  },
  {
   "cell_type": "code",
   "execution_count": 9,
   "metadata": {},
   "outputs": [],
   "source": [
    "data_tseries = data_tseries.dropna()"
   ]
  },
  {
   "cell_type": "code",
   "execution_count": null,
   "metadata": {},
   "outputs": [],
   "source": []
  },
  {
   "cell_type": "code",
   "execution_count": 10,
   "metadata": {},
   "outputs": [
    {
     "data": {
      "text/plain": [
       "(0.67, 443065, 887080)"
      ]
     },
     "execution_count": 10,
     "metadata": {},
     "output_type": "execute_result"
    }
   ],
   "source": [
    "not_bought_count = data_tseries.bought_in_the_visit.value_counts()[0]\n",
    "bought_count = data_tseries.bought_in_the_visit.value_counts()[1]\n",
    "\n",
    "baseline = round(max(bought_count, not_bought_count)/ (bought_count + not_bought_count),2)\n",
    "baseline, bought_count, not_bought_count"
   ]
  },
  {
   "cell_type": "code",
   "execution_count": null,
   "metadata": {},
   "outputs": [],
   "source": []
  },
  {
   "cell_type": "code",
   "execution_count": 11,
   "metadata": {},
   "outputs": [],
   "source": [
    "features = ['week_1',\n",
    "       'week_2', 'week_3', 'week_4', 'week_5', 'week_6', 'week_7', 'week_8',\n",
    "       'week_9', 'week_10', 'week_11', 'week_12', 'week_13', 'week_14',\n",
    "       'week_15', 'week_16', 'week_17', 'week_18', 'week_19', 'cod_canal', 'cod_giro', 'cod_subgiro',\n",
    "       'desc_region', 'desc_subregion', 'desc_division', 'cod_zona', 'ruta',\n",
    "       'cod_modulo', 'categoria', 'marca', 'desc_sabor', 'desc_tipoenvase',\n",
    "       'desc_subfamilia', 'contenido',\n",
    "       'product_sales_amount_last_3m', 'product_trnx_last_3m',\n",
    "       'normalized_rotation', 'normalized_freq', 'total_sales_last_3m',\n",
    "       'total_trnx_last_3m', 'ratio_sales_last_3m', 'ratio_trnx_last_3m',\n",
    "       'bought_last_year_flag', 'prod_coverage_bucket']"
   ]
  },
  {
   "cell_type": "code",
   "execution_count": 12,
   "metadata": {},
   "outputs": [],
   "source": [
    "X = data_tseries[features]\n",
    "y = data_tseries[\"bought_in_the_visit\"]"
   ]
  },
  {
   "cell_type": "code",
   "execution_count": 15,
   "metadata": {},
   "outputs": [],
   "source": [
    "seed = 7\n",
    "test_size = 0.33\n",
    "X_train, X_test, y_train, y_test = train_test_split(X, y, test_size=test_size, random_state=seed)"
   ]
  },
  {
   "cell_type": "code",
   "execution_count": 16,
   "metadata": {},
   "outputs": [],
   "source": [
    "def objective(trial):\n",
    "    # Fit train data\n",
    "\n",
    "    learning_rate = trial.suggest_loguniform(\"lr\", 1e-3, 1)\n",
    "    n_estimators = trial.suggest_int(\"n_est\", 1, 750)\n",
    "    #alp = trial.suggest_categorical('alp', [1.0, 1.3, 1.4])\n",
    "    max_depth = trial.suggest_int(\"m_depth\", 1, 20)\n",
    "    reg_alpha = trial.suggest_loguniform(\"alpha\", 1e-10, 1)\n",
    "    reg_lamb = trial.suggest_loguniform(\"reg_lamb\", 1e-10, 1)\n",
    "    gamma = trial.suggest_float(\"gamma\", 0.1, 1)\n",
    "    col_tree = trial.suggest_float(\"colt_tree\", 0.5, 1)\n",
    "    min_child = trial.suggest_loguniform(\"min_child\", 0.1, 20)\n",
    "    subsamp = trial.suggest_float(\"subsamp\", 0.01, 1)\n",
    "\n",
    "    model = XGBClassifier(\n",
    "        use_label_encoder=False,\n",
    "        learning_rate=learning_rate,\n",
    "        n_estimators=n_estimators,\n",
    "        min_child_weight=min_child,\n",
    "        gamma=gamma,\n",
    "        subsample=subsamp,\n",
    "        colsample_bytree=col_tree,\n",
    "        objective=\"binary:logistic\",\n",
    "        seed=seed,\n",
    "        reg_alpha = reg_alpha,\n",
    "        max_depth = max_depth,\n",
    "        reg_lambda = reg_lamb\n",
    "    )\n",
    "\n",
    "    model.fit(X_train, y_train)\n",
    "\n",
    "    print(\"Model completed\")\n",
    "    \n",
    "    y_pred = model.predict(X_test)\n",
    "    y_pred_proba = model.predict_proba(X_test)\n",
    "    predictions = [round(value) for value in y_pred]\n",
    "    \n",
    "    auc = roc_auc_score(y_test, y_pred_proba[:, 1])\n",
    "    \n",
    "    return auc"
   ]
  },
  {
   "cell_type": "code",
   "execution_count": 17,
   "metadata": {},
   "outputs": [
    {
     "name": "stderr",
     "output_type": "stream",
     "text": [
      "\u001b[32m[I 2021-07-23 05:35:32,133]\u001b[0m A new study created in memory with name: no-name-4e4783f3-4e5b-4b11-9958-c64c716da75b\u001b[0m\n"
     ]
    },
    {
     "name": "stdout",
     "output_type": "stream",
     "text": [
      "The start time is : 120812.398334253\n",
      "[05:35:35] WARNING: ../src/learner.cc:1095: Starting in XGBoost 1.3.0, the default evaluation metric used with the objective 'binary:logistic' was changed from 'error' to 'logloss'. Explicitly set eval_metric if you'd like to restore the old behavior.\n",
      "Model completed\n"
     ]
    },
    {
     "name": "stderr",
     "output_type": "stream",
     "text": [
      "\u001b[32m[I 2021-07-23 05:37:59,891]\u001b[0m Trial 0 finished with value: 0.734898696128139 and parameters: {'lr': 0.0038696629157534534, 'n_est': 184, 'm_depth': 7, 'alpha': 2.9767642340957003e-08, 'reg_lamb': 0.2589734343964507, 'gamma': 0.3580161968400478, 'colt_tree': 0.9847722691000997, 'min_child': 0.7538094039669816, 'subsamp': 0.7583215309198837}. Best is trial 0 with value: 0.734898696128139.\u001b[0m\n"
     ]
    },
    {
     "name": "stdout",
     "output_type": "stream",
     "text": [
      "[05:38:01] WARNING: ../src/learner.cc:1095: Starting in XGBoost 1.3.0, the default evaluation metric used with the objective 'binary:logistic' was changed from 'error' to 'logloss'. Explicitly set eval_metric if you'd like to restore the old behavior.\n",
      "Model completed\n"
     ]
    },
    {
     "name": "stderr",
     "output_type": "stream",
     "text": [
      "\u001b[32m[I 2021-07-23 05:46:57,263]\u001b[0m Trial 1 finished with value: 0.7437128078376531 and parameters: {'lr': 0.001836645578847748, 'n_est': 578, 'm_depth': 10, 'alpha': 2.2187112286608985e-08, 'reg_lamb': 3.789245817662154e-08, 'gamma': 0.3983247852467471, 'colt_tree': 0.8914878474560946, 'min_child': 0.14506852224175254, 'subsamp': 0.2491673890871308}. Best is trial 1 with value: 0.7437128078376531.\u001b[0m\n"
     ]
    },
    {
     "name": "stdout",
     "output_type": "stream",
     "text": [
      "Total training time is : 685.1314803740097\n"
     ]
    }
   ],
   "source": [
    "starttime = timeit.default_timer()\n",
    "print(\"The start time is :\",starttime)\n",
    "\n",
    "study = optuna.create_study(direction=\"maximize\")\n",
    "study.optimize(objective, n_trials=15)\n",
    "\n",
    "print(\"Total training time is :\", timeit.default_timer() - starttime)"
   ]
  },
  {
   "cell_type": "code",
   "execution_count": 18,
   "metadata": {},
   "outputs": [
    {
     "name": "stdout",
     "output_type": "stream",
     "text": [
      "Number of finished trials: 2\n",
      "Best trial:\n",
      "  Value: 0.7437128078376531\n",
      "  Params: \n",
      "    lr: 0.001836645578847748\n",
      "    n_est: 578\n",
      "    m_depth: 10\n",
      "    alpha: 2.2187112286608985e-08\n",
      "    reg_lamb: 3.789245817662154e-08\n",
      "    gamma: 0.3983247852467471\n",
      "    colt_tree: 0.8914878474560946\n",
      "    min_child: 0.14506852224175254\n",
      "    subsamp: 0.2491673890871308\n"
     ]
    }
   ],
   "source": [
    "print(\"Number of finished trials: {}\".format(len(study.trials)))\n",
    "\n",
    "print(\"Best trial:\")\n",
    "trial = study.best_trial\n",
    "\n",
    "print(\"  Value: {}\".format(trial.value))\n",
    "\n",
    "print(\"  Params: \")\n",
    "for key, value in trial.params.items():\n",
    "    print(\"    {}: {}\".format(key, value))"
   ]
  },
  {
   "cell_type": "code",
   "execution_count": null,
   "metadata": {},
   "outputs": [],
   "source": []
  },
  {
   "cell_type": "code",
   "execution_count": null,
   "metadata": {},
   "outputs": [],
   "source": []
  },
  {
   "cell_type": "code",
   "execution_count": null,
   "metadata": {},
   "outputs": [],
   "source": []
  },
  {
   "cell_type": "code",
   "execution_count": null,
   "metadata": {},
   "outputs": [],
   "source": []
  }
 ],
 "metadata": {
  "kernelspec": {
   "display_name": "Python 3",
   "language": "python",
   "name": "python3"
  },
  "language_info": {
   "codemirror_mode": {
    "name": "ipython",
    "version": 3
   },
   "file_extension": ".py",
   "mimetype": "text/x-python",
   "name": "python",
   "nbconvert_exporter": "python",
   "pygments_lexer": "ipython3",
   "version": "3.7.6"
  }
 },
 "nbformat": 4,
 "nbformat_minor": 4
}
