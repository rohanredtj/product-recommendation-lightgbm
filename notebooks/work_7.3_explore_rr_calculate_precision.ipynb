{
 "cells": [
  {
   "cell_type": "code",
   "execution_count": 1,
   "metadata": {},
   "outputs": [],
   "source": [
    "import pandas as pd\n",
    "from psycopg2 import connect, DatabaseError, OperationalError"
   ]
  },
  {
   "cell_type": "code",
   "execution_count": 2,
   "metadata": {},
   "outputs": [],
   "source": [
    "HOST = 'localhost'\n",
    "USER = 'postgres'\n",
    "PASSWORD = ''\n",
    "DATABASE = 'bi_db_aje_co'"
   ]
  },
  {
   "cell_type": "code",
   "execution_count": 3,
   "metadata": {},
   "outputs": [],
   "source": [
    "conn = None"
   ]
  },
  {
   "cell_type": "code",
   "execution_count": 4,
   "metadata": {},
   "outputs": [
    {
     "name": "stdout",
     "output_type": "stream",
     "text": [
      "Failed to connect and process data, error is ('fe_sendauth: no password supplied\\n',)\n"
     ]
    }
   ],
   "source": [
    "conn = None\n",
    "# Connect to get sales data\n",
    "try:  # Create connection and build dataset\n",
    "    conn = connect(\n",
    "        host=HOST,\n",
    "        database=DATABASE,\n",
    "        user=USER,\n",
    "        password=PASSWORD\n",
    "    )\n",
    "    print(\"Connection is successful.\")\n",
    "    df_sales = pd.read_sql(\"select fecha_de_visita, codigo_de_cliente, codigo_de_producto, venta_neta_dolar \"\n",
    "                           \"from public.sales where venta_neta_dolar > 0.00\", conn, coerce_float=False)\n",
    "except (Exception, DatabaseError, OperationalError) as e:\n",
    "    print(\"Failed to connect and process data, error is\", str(e.args))\n",
    "    if conn:\n",
    "        conn.close()\n",
    "    exit(45)\n",
    "finally:\n",
    "    if conn:\n",
    "        conn.close()"
   ]
  },
  {
   "cell_type": "code",
   "execution_count": 10,
   "metadata": {},
   "outputs": [],
   "source": [
    "df_sales = {\n",
    "    'fecha_de_visita': ['2021-05-07', '2021-05-07', '2021-05-07', '2021-05-07', '2021-05-07', '2021-05-07'],\n",
    "    'codigo_de_cliente': ['0094100823', '0094100823', '0094100823', '0094100823', '0094101546', '0094101546'],\n",
    "    'codigo_de_producto': ['500040', '500366', '500574', '500575', '501323', '500040'],\n",
    "    'venta_neta_dolar': [1.2, 2.2, 0, 2.11, 15.0, 0]\n",
    "}"
   ]
  },
  {
   "cell_type": "code",
   "execution_count": 5,
   "metadata": {},
   "outputs": [],
   "source": [
    "sample_input_data = {\n",
    "    'fecha_de_visita': ['2021-05-07', '2021-05-07', '2021-05-07', '2021-05-07', '2021-05-07', '2021-05-07'],\n",
    "    'codigo_de_cliente': ['0094100823', '0094100823', '0094100823', '0094100823', '0094101546', '0094101546'],\n",
    "    'codigo_de_producto': ['500040', '500366', '500574', '500575', '501323', '500040'],\n",
    "    'prod_rank': [1, 2, 3, 4, 1, 2]\n",
    "}"
   ]
  },
  {
   "cell_type": "code",
   "execution_count": 11,
   "metadata": {},
   "outputs": [],
   "source": [
    "sample_df = pd.DataFrame(sample_input_data)\n",
    "df_sales = pd.DataFrame(df_sales)"
   ]
  },
  {
   "cell_type": "code",
   "execution_count": 12,
   "metadata": {},
   "outputs": [
    {
     "data": {
      "text/html": [
       "<div>\n",
       "<style scoped>\n",
       "    .dataframe tbody tr th:only-of-type {\n",
       "        vertical-align: middle;\n",
       "    }\n",
       "\n",
       "    .dataframe tbody tr th {\n",
       "        vertical-align: top;\n",
       "    }\n",
       "\n",
       "    .dataframe thead th {\n",
       "        text-align: right;\n",
       "    }\n",
       "</style>\n",
       "<table border=\"1\" class=\"dataframe\">\n",
       "  <thead>\n",
       "    <tr style=\"text-align: right;\">\n",
       "      <th></th>\n",
       "      <th>fecha_de_visita</th>\n",
       "      <th>codigo_de_cliente</th>\n",
       "      <th>codigo_de_producto</th>\n",
       "      <th>prod_rank</th>\n",
       "    </tr>\n",
       "  </thead>\n",
       "  <tbody>\n",
       "    <tr>\n",
       "      <th>0</th>\n",
       "      <td>2021-05-07</td>\n",
       "      <td>0094100823</td>\n",
       "      <td>500040</td>\n",
       "      <td>1</td>\n",
       "    </tr>\n",
       "    <tr>\n",
       "      <th>1</th>\n",
       "      <td>2021-05-07</td>\n",
       "      <td>0094100823</td>\n",
       "      <td>500366</td>\n",
       "      <td>2</td>\n",
       "    </tr>\n",
       "    <tr>\n",
       "      <th>2</th>\n",
       "      <td>2021-05-07</td>\n",
       "      <td>0094100823</td>\n",
       "      <td>500574</td>\n",
       "      <td>3</td>\n",
       "    </tr>\n",
       "    <tr>\n",
       "      <th>3</th>\n",
       "      <td>2021-05-07</td>\n",
       "      <td>0094100823</td>\n",
       "      <td>500575</td>\n",
       "      <td>4</td>\n",
       "    </tr>\n",
       "    <tr>\n",
       "      <th>4</th>\n",
       "      <td>2021-05-07</td>\n",
       "      <td>0094101546</td>\n",
       "      <td>501323</td>\n",
       "      <td>1</td>\n",
       "    </tr>\n",
       "    <tr>\n",
       "      <th>5</th>\n",
       "      <td>2021-05-07</td>\n",
       "      <td>0094101546</td>\n",
       "      <td>500040</td>\n",
       "      <td>2</td>\n",
       "    </tr>\n",
       "  </tbody>\n",
       "</table>\n",
       "</div>"
      ],
      "text/plain": [
       "  fecha_de_visita codigo_de_cliente codigo_de_producto  prod_rank\n",
       "0      2021-05-07        0094100823             500040          1\n",
       "1      2021-05-07        0094100823             500366          2\n",
       "2      2021-05-07        0094100823             500574          3\n",
       "3      2021-05-07        0094100823             500575          4\n",
       "4      2021-05-07        0094101546             501323          1\n",
       "5      2021-05-07        0094101546             500040          2"
      ]
     },
     "execution_count": 12,
     "metadata": {},
     "output_type": "execute_result"
    }
   ],
   "source": [
    "sample_df"
   ]
  },
  {
   "cell_type": "code",
   "execution_count": 14,
   "metadata": {},
   "outputs": [
    {
     "data": {
      "text/html": [
       "<div>\n",
       "<style scoped>\n",
       "    .dataframe tbody tr th:only-of-type {\n",
       "        vertical-align: middle;\n",
       "    }\n",
       "\n",
       "    .dataframe tbody tr th {\n",
       "        vertical-align: top;\n",
       "    }\n",
       "\n",
       "    .dataframe thead th {\n",
       "        text-align: right;\n",
       "    }\n",
       "</style>\n",
       "<table border=\"1\" class=\"dataframe\">\n",
       "  <thead>\n",
       "    <tr style=\"text-align: right;\">\n",
       "      <th></th>\n",
       "      <th>fecha_de_visita</th>\n",
       "      <th>codigo_de_cliente</th>\n",
       "      <th>codigo_de_producto</th>\n",
       "      <th>venta_neta_dolar</th>\n",
       "    </tr>\n",
       "  </thead>\n",
       "  <tbody>\n",
       "    <tr>\n",
       "      <th>0</th>\n",
       "      <td>2021-05-07</td>\n",
       "      <td>0094100823</td>\n",
       "      <td>500040</td>\n",
       "      <td>1.20</td>\n",
       "    </tr>\n",
       "    <tr>\n",
       "      <th>1</th>\n",
       "      <td>2021-05-07</td>\n",
       "      <td>0094100823</td>\n",
       "      <td>500366</td>\n",
       "      <td>2.20</td>\n",
       "    </tr>\n",
       "    <tr>\n",
       "      <th>2</th>\n",
       "      <td>2021-05-07</td>\n",
       "      <td>0094100823</td>\n",
       "      <td>500574</td>\n",
       "      <td>0.00</td>\n",
       "    </tr>\n",
       "    <tr>\n",
       "      <th>3</th>\n",
       "      <td>2021-05-07</td>\n",
       "      <td>0094100823</td>\n",
       "      <td>500575</td>\n",
       "      <td>2.11</td>\n",
       "    </tr>\n",
       "    <tr>\n",
       "      <th>4</th>\n",
       "      <td>2021-05-07</td>\n",
       "      <td>0094101546</td>\n",
       "      <td>501323</td>\n",
       "      <td>15.00</td>\n",
       "    </tr>\n",
       "    <tr>\n",
       "      <th>5</th>\n",
       "      <td>2021-05-07</td>\n",
       "      <td>0094101546</td>\n",
       "      <td>500040</td>\n",
       "      <td>0.00</td>\n",
       "    </tr>\n",
       "  </tbody>\n",
       "</table>\n",
       "</div>"
      ],
      "text/plain": [
       "  fecha_de_visita codigo_de_cliente codigo_de_producto  venta_neta_dolar\n",
       "0      2021-05-07        0094100823             500040              1.20\n",
       "1      2021-05-07        0094100823             500366              2.20\n",
       "2      2021-05-07        0094100823             500574              0.00\n",
       "3      2021-05-07        0094100823             500575              2.11\n",
       "4      2021-05-07        0094101546             501323             15.00\n",
       "5      2021-05-07        0094101546             500040              0.00"
      ]
     },
     "execution_count": 14,
     "metadata": {},
     "output_type": "execute_result"
    }
   ],
   "source": [
    "df_sales"
   ]
  },
  {
   "cell_type": "code",
   "execution_count": 13,
   "metadata": {},
   "outputs": [
    {
     "name": "stdout",
     "output_type": "stream",
     "text": [
      "fecha_de_visita       object\n",
      "codigo_de_cliente     object\n",
      "codigo_de_producto    object\n",
      "prod_rank              int64\n",
      "dtype: object\n",
      "fecha_de_visita        object\n",
      "codigo_de_cliente      object\n",
      "codigo_de_producto     object\n",
      "venta_neta_dolar      float64\n",
      "dtype: object\n"
     ]
    }
   ],
   "source": [
    "print(sample_df.dtypes)\n",
    "print(df_sales.dtypes)"
   ]
  },
  {
   "cell_type": "code",
   "execution_count": 15,
   "metadata": {},
   "outputs": [],
   "source": [
    "sample_df.fecha_de_visita = sample_df.fecha_de_visita.astype(str)\n",
    "sample_df.codigo_de_cliente = sample_df.codigo_de_cliente.astype(str)\n",
    "sample_df.codigo_de_producto = sample_df.codigo_de_producto.astype(str)\n",
    "df_sales.fecha_de_visita = df_sales.fecha_de_visita.astype(str)\n",
    "df_sales.codigo_de_cliente = df_sales.codigo_de_cliente.astype(str)\n",
    "df_sales.codigo_de_producto = df_sales.codigo_de_producto.astype(str)"
   ]
  },
  {
   "cell_type": "code",
   "execution_count": 16,
   "metadata": {},
   "outputs": [],
   "source": [
    "joined_dataset = pd.merge(sample_df, df_sales, how='left',\n",
    "                          left_on=['fecha_de_visita', 'codigo_de_cliente', 'codigo_de_producto'],\n",
    "                          right_on=['fecha_de_visita', 'codigo_de_cliente', 'codigo_de_producto'],\n",
    "                          suffixes=('_recomm', '_sales'))"
   ]
  },
  {
   "cell_type": "code",
   "execution_count": 17,
   "metadata": {},
   "outputs": [
    {
     "data": {
      "text/html": [
       "<div>\n",
       "<style scoped>\n",
       "    .dataframe tbody tr th:only-of-type {\n",
       "        vertical-align: middle;\n",
       "    }\n",
       "\n",
       "    .dataframe tbody tr th {\n",
       "        vertical-align: top;\n",
       "    }\n",
       "\n",
       "    .dataframe thead th {\n",
       "        text-align: right;\n",
       "    }\n",
       "</style>\n",
       "<table border=\"1\" class=\"dataframe\">\n",
       "  <thead>\n",
       "    <tr style=\"text-align: right;\">\n",
       "      <th></th>\n",
       "      <th>fecha_de_visita</th>\n",
       "      <th>codigo_de_cliente</th>\n",
       "      <th>codigo_de_producto</th>\n",
       "      <th>prod_rank</th>\n",
       "      <th>venta_neta_dolar</th>\n",
       "    </tr>\n",
       "  </thead>\n",
       "  <tbody>\n",
       "    <tr>\n",
       "      <th>0</th>\n",
       "      <td>2021-05-07</td>\n",
       "      <td>0094100823</td>\n",
       "      <td>500040</td>\n",
       "      <td>1</td>\n",
       "      <td>1.20</td>\n",
       "    </tr>\n",
       "    <tr>\n",
       "      <th>1</th>\n",
       "      <td>2021-05-07</td>\n",
       "      <td>0094100823</td>\n",
       "      <td>500366</td>\n",
       "      <td>2</td>\n",
       "      <td>2.20</td>\n",
       "    </tr>\n",
       "    <tr>\n",
       "      <th>2</th>\n",
       "      <td>2021-05-07</td>\n",
       "      <td>0094100823</td>\n",
       "      <td>500574</td>\n",
       "      <td>3</td>\n",
       "      <td>0.00</td>\n",
       "    </tr>\n",
       "    <tr>\n",
       "      <th>3</th>\n",
       "      <td>2021-05-07</td>\n",
       "      <td>0094100823</td>\n",
       "      <td>500575</td>\n",
       "      <td>4</td>\n",
       "      <td>2.11</td>\n",
       "    </tr>\n",
       "    <tr>\n",
       "      <th>4</th>\n",
       "      <td>2021-05-07</td>\n",
       "      <td>0094101546</td>\n",
       "      <td>501323</td>\n",
       "      <td>1</td>\n",
       "      <td>15.00</td>\n",
       "    </tr>\n",
       "    <tr>\n",
       "      <th>5</th>\n",
       "      <td>2021-05-07</td>\n",
       "      <td>0094101546</td>\n",
       "      <td>500040</td>\n",
       "      <td>2</td>\n",
       "      <td>0.00</td>\n",
       "    </tr>\n",
       "  </tbody>\n",
       "</table>\n",
       "</div>"
      ],
      "text/plain": [
       "  fecha_de_visita codigo_de_cliente codigo_de_producto  prod_rank  \\\n",
       "0      2021-05-07        0094100823             500040          1   \n",
       "1      2021-05-07        0094100823             500366          2   \n",
       "2      2021-05-07        0094100823             500574          3   \n",
       "3      2021-05-07        0094100823             500575          4   \n",
       "4      2021-05-07        0094101546             501323          1   \n",
       "5      2021-05-07        0094101546             500040          2   \n",
       "\n",
       "   venta_neta_dolar  \n",
       "0              1.20  \n",
       "1              2.20  \n",
       "2              0.00  \n",
       "3              2.11  \n",
       "4             15.00  \n",
       "5              0.00  "
      ]
     },
     "execution_count": 17,
     "metadata": {},
     "output_type": "execute_result"
    }
   ],
   "source": [
    "joined_dataset"
   ]
  },
  {
   "cell_type": "code",
   "execution_count": 18,
   "metadata": {},
   "outputs": [],
   "source": [
    "joined_dataset['venta_neta_dolar'] = joined_dataset['venta_neta_dolar'].fillna(0.00)"
   ]
  },
  {
   "cell_type": "code",
   "execution_count": 19,
   "metadata": {},
   "outputs": [
    {
     "data": {
      "text/html": [
       "<div>\n",
       "<style scoped>\n",
       "    .dataframe tbody tr th:only-of-type {\n",
       "        vertical-align: middle;\n",
       "    }\n",
       "\n",
       "    .dataframe tbody tr th {\n",
       "        vertical-align: top;\n",
       "    }\n",
       "\n",
       "    .dataframe thead th {\n",
       "        text-align: right;\n",
       "    }\n",
       "</style>\n",
       "<table border=\"1\" class=\"dataframe\">\n",
       "  <thead>\n",
       "    <tr style=\"text-align: right;\">\n",
       "      <th></th>\n",
       "      <th>fecha_de_visita</th>\n",
       "      <th>codigo_de_cliente</th>\n",
       "      <th>codigo_de_producto</th>\n",
       "      <th>prod_rank</th>\n",
       "      <th>venta_neta_dolar</th>\n",
       "    </tr>\n",
       "  </thead>\n",
       "  <tbody>\n",
       "    <tr>\n",
       "      <th>0</th>\n",
       "      <td>2021-05-07</td>\n",
       "      <td>0094100823</td>\n",
       "      <td>500040</td>\n",
       "      <td>1</td>\n",
       "      <td>1.20</td>\n",
       "    </tr>\n",
       "    <tr>\n",
       "      <th>1</th>\n",
       "      <td>2021-05-07</td>\n",
       "      <td>0094100823</td>\n",
       "      <td>500366</td>\n",
       "      <td>2</td>\n",
       "      <td>2.20</td>\n",
       "    </tr>\n",
       "    <tr>\n",
       "      <th>2</th>\n",
       "      <td>2021-05-07</td>\n",
       "      <td>0094100823</td>\n",
       "      <td>500574</td>\n",
       "      <td>3</td>\n",
       "      <td>0.00</td>\n",
       "    </tr>\n",
       "    <tr>\n",
       "      <th>3</th>\n",
       "      <td>2021-05-07</td>\n",
       "      <td>0094100823</td>\n",
       "      <td>500575</td>\n",
       "      <td>4</td>\n",
       "      <td>2.11</td>\n",
       "    </tr>\n",
       "    <tr>\n",
       "      <th>4</th>\n",
       "      <td>2021-05-07</td>\n",
       "      <td>0094101546</td>\n",
       "      <td>501323</td>\n",
       "      <td>1</td>\n",
       "      <td>15.00</td>\n",
       "    </tr>\n",
       "    <tr>\n",
       "      <th>5</th>\n",
       "      <td>2021-05-07</td>\n",
       "      <td>0094101546</td>\n",
       "      <td>500040</td>\n",
       "      <td>2</td>\n",
       "      <td>0.00</td>\n",
       "    </tr>\n",
       "  </tbody>\n",
       "</table>\n",
       "</div>"
      ],
      "text/plain": [
       "  fecha_de_visita codigo_de_cliente codigo_de_producto  prod_rank  \\\n",
       "0      2021-05-07        0094100823             500040          1   \n",
       "1      2021-05-07        0094100823             500366          2   \n",
       "2      2021-05-07        0094100823             500574          3   \n",
       "3      2021-05-07        0094100823             500575          4   \n",
       "4      2021-05-07        0094101546             501323          1   \n",
       "5      2021-05-07        0094101546             500040          2   \n",
       "\n",
       "   venta_neta_dolar  \n",
       "0              1.20  \n",
       "1              2.20  \n",
       "2              0.00  \n",
       "3              2.11  \n",
       "4             15.00  \n",
       "5              0.00  "
      ]
     },
     "execution_count": 19,
     "metadata": {},
     "output_type": "execute_result"
    }
   ],
   "source": [
    "joined_dataset"
   ]
  },
  {
   "cell_type": "code",
   "execution_count": 20,
   "metadata": {},
   "outputs": [],
   "source": [
    "joined_dataset['executed_flag'] = joined_dataset['venta_neta_dolar'].apply(lambda x: 1 if x > 0.00 else 0)"
   ]
  },
  {
   "cell_type": "code",
   "execution_count": 21,
   "metadata": {},
   "outputs": [
    {
     "data": {
      "text/html": [
       "<div>\n",
       "<style scoped>\n",
       "    .dataframe tbody tr th:only-of-type {\n",
       "        vertical-align: middle;\n",
       "    }\n",
       "\n",
       "    .dataframe tbody tr th {\n",
       "        vertical-align: top;\n",
       "    }\n",
       "\n",
       "    .dataframe thead th {\n",
       "        text-align: right;\n",
       "    }\n",
       "</style>\n",
       "<table border=\"1\" class=\"dataframe\">\n",
       "  <thead>\n",
       "    <tr style=\"text-align: right;\">\n",
       "      <th></th>\n",
       "      <th>fecha_de_visita</th>\n",
       "      <th>codigo_de_cliente</th>\n",
       "      <th>codigo_de_producto</th>\n",
       "      <th>prod_rank</th>\n",
       "      <th>venta_neta_dolar</th>\n",
       "      <th>executed_flag</th>\n",
       "    </tr>\n",
       "  </thead>\n",
       "  <tbody>\n",
       "    <tr>\n",
       "      <th>0</th>\n",
       "      <td>2021-05-07</td>\n",
       "      <td>0094100823</td>\n",
       "      <td>500040</td>\n",
       "      <td>1</td>\n",
       "      <td>1.20</td>\n",
       "      <td>1</td>\n",
       "    </tr>\n",
       "    <tr>\n",
       "      <th>1</th>\n",
       "      <td>2021-05-07</td>\n",
       "      <td>0094100823</td>\n",
       "      <td>500366</td>\n",
       "      <td>2</td>\n",
       "      <td>2.20</td>\n",
       "      <td>1</td>\n",
       "    </tr>\n",
       "    <tr>\n",
       "      <th>2</th>\n",
       "      <td>2021-05-07</td>\n",
       "      <td>0094100823</td>\n",
       "      <td>500574</td>\n",
       "      <td>3</td>\n",
       "      <td>0.00</td>\n",
       "      <td>0</td>\n",
       "    </tr>\n",
       "    <tr>\n",
       "      <th>3</th>\n",
       "      <td>2021-05-07</td>\n",
       "      <td>0094100823</td>\n",
       "      <td>500575</td>\n",
       "      <td>4</td>\n",
       "      <td>2.11</td>\n",
       "      <td>1</td>\n",
       "    </tr>\n",
       "    <tr>\n",
       "      <th>4</th>\n",
       "      <td>2021-05-07</td>\n",
       "      <td>0094101546</td>\n",
       "      <td>501323</td>\n",
       "      <td>1</td>\n",
       "      <td>15.00</td>\n",
       "      <td>1</td>\n",
       "    </tr>\n",
       "    <tr>\n",
       "      <th>5</th>\n",
       "      <td>2021-05-07</td>\n",
       "      <td>0094101546</td>\n",
       "      <td>500040</td>\n",
       "      <td>2</td>\n",
       "      <td>0.00</td>\n",
       "      <td>0</td>\n",
       "    </tr>\n",
       "  </tbody>\n",
       "</table>\n",
       "</div>"
      ],
      "text/plain": [
       "  fecha_de_visita codigo_de_cliente codigo_de_producto  prod_rank  \\\n",
       "0      2021-05-07        0094100823             500040          1   \n",
       "1      2021-05-07        0094100823             500366          2   \n",
       "2      2021-05-07        0094100823             500574          3   \n",
       "3      2021-05-07        0094100823             500575          4   \n",
       "4      2021-05-07        0094101546             501323          1   \n",
       "5      2021-05-07        0094101546             500040          2   \n",
       "\n",
       "   venta_neta_dolar  executed_flag  \n",
       "0              1.20              1  \n",
       "1              2.20              1  \n",
       "2              0.00              0  \n",
       "3              2.11              1  \n",
       "4             15.00              1  \n",
       "5              0.00              0  "
      ]
     },
     "execution_count": 21,
     "metadata": {},
     "output_type": "execute_result"
    }
   ],
   "source": [
    "joined_dataset"
   ]
  },
  {
   "cell_type": "code",
   "execution_count": 22,
   "metadata": {},
   "outputs": [],
   "source": [
    "client_level_precision = joined_dataset.groupby(['fecha_de_visita', 'codigo_de_cliente']).agg({'codigo_de_producto': 'count', 'executed_flag': 'sum'}).reset_index()\n"
   ]
  },
  {
   "cell_type": "code",
   "execution_count": 23,
   "metadata": {},
   "outputs": [
    {
     "data": {
      "text/html": [
       "<div>\n",
       "<style scoped>\n",
       "    .dataframe tbody tr th:only-of-type {\n",
       "        vertical-align: middle;\n",
       "    }\n",
       "\n",
       "    .dataframe tbody tr th {\n",
       "        vertical-align: top;\n",
       "    }\n",
       "\n",
       "    .dataframe thead th {\n",
       "        text-align: right;\n",
       "    }\n",
       "</style>\n",
       "<table border=\"1\" class=\"dataframe\">\n",
       "  <thead>\n",
       "    <tr style=\"text-align: right;\">\n",
       "      <th></th>\n",
       "      <th>fecha_de_visita</th>\n",
       "      <th>codigo_de_cliente</th>\n",
       "      <th>codigo_de_producto</th>\n",
       "      <th>executed_flag</th>\n",
       "    </tr>\n",
       "  </thead>\n",
       "  <tbody>\n",
       "    <tr>\n",
       "      <th>0</th>\n",
       "      <td>2021-05-07</td>\n",
       "      <td>0094100823</td>\n",
       "      <td>4</td>\n",
       "      <td>3</td>\n",
       "    </tr>\n",
       "    <tr>\n",
       "      <th>1</th>\n",
       "      <td>2021-05-07</td>\n",
       "      <td>0094101546</td>\n",
       "      <td>2</td>\n",
       "      <td>1</td>\n",
       "    </tr>\n",
       "  </tbody>\n",
       "</table>\n",
       "</div>"
      ],
      "text/plain": [
       "  fecha_de_visita codigo_de_cliente  codigo_de_producto  executed_flag\n",
       "0      2021-05-07        0094100823                   4              3\n",
       "1      2021-05-07        0094101546                   2              1"
      ]
     },
     "execution_count": 23,
     "metadata": {},
     "output_type": "execute_result"
    }
   ],
   "source": [
    "client_level_precision"
   ]
  },
  {
   "cell_type": "code",
   "execution_count": 24,
   "metadata": {},
   "outputs": [],
   "source": [
    "client_level_precision['precision'] = client_level_precision['executed_flag']/client_level_precision['codigo_de_producto']\n"
   ]
  },
  {
   "cell_type": "code",
   "execution_count": 25,
   "metadata": {},
   "outputs": [
    {
     "data": {
      "text/html": [
       "<div>\n",
       "<style scoped>\n",
       "    .dataframe tbody tr th:only-of-type {\n",
       "        vertical-align: middle;\n",
       "    }\n",
       "\n",
       "    .dataframe tbody tr th {\n",
       "        vertical-align: top;\n",
       "    }\n",
       "\n",
       "    .dataframe thead th {\n",
       "        text-align: right;\n",
       "    }\n",
       "</style>\n",
       "<table border=\"1\" class=\"dataframe\">\n",
       "  <thead>\n",
       "    <tr style=\"text-align: right;\">\n",
       "      <th></th>\n",
       "      <th>fecha_de_visita</th>\n",
       "      <th>codigo_de_cliente</th>\n",
       "      <th>codigo_de_producto</th>\n",
       "      <th>executed_flag</th>\n",
       "      <th>precision</th>\n",
       "    </tr>\n",
       "  </thead>\n",
       "  <tbody>\n",
       "    <tr>\n",
       "      <th>0</th>\n",
       "      <td>2021-05-07</td>\n",
       "      <td>0094100823</td>\n",
       "      <td>4</td>\n",
       "      <td>3</td>\n",
       "      <td>0.75</td>\n",
       "    </tr>\n",
       "    <tr>\n",
       "      <th>1</th>\n",
       "      <td>2021-05-07</td>\n",
       "      <td>0094101546</td>\n",
       "      <td>2</td>\n",
       "      <td>1</td>\n",
       "      <td>0.50</td>\n",
       "    </tr>\n",
       "  </tbody>\n",
       "</table>\n",
       "</div>"
      ],
      "text/plain": [
       "  fecha_de_visita codigo_de_cliente  codigo_de_producto  executed_flag  \\\n",
       "0      2021-05-07        0094100823                   4              3   \n",
       "1      2021-05-07        0094101546                   2              1   \n",
       "\n",
       "   precision  \n",
       "0       0.75  \n",
       "1       0.50  "
      ]
     },
     "execution_count": 25,
     "metadata": {},
     "output_type": "execute_result"
    }
   ],
   "source": [
    "client_level_precision"
   ]
  },
  {
   "cell_type": "code",
   "execution_count": 26,
   "metadata": {},
   "outputs": [],
   "source": [
    "precision = client_level_precision['precision'].mean()"
   ]
  },
  {
   "cell_type": "code",
   "execution_count": 27,
   "metadata": {},
   "outputs": [
    {
     "data": {
      "text/plain": [
       "0.625"
      ]
     },
     "execution_count": 27,
     "metadata": {},
     "output_type": "execute_result"
    }
   ],
   "source": [
    "precision"
   ]
  },
  {
   "cell_type": "code",
   "execution_count": null,
   "metadata": {},
   "outputs": [],
   "source": []
  }
 ],
 "metadata": {
  "kernelspec": {
   "display_name": "Python 3",
   "language": "python",
   "name": "python3"
  },
  "language_info": {
   "codemirror_mode": {
    "name": "ipython",
    "version": 3
   },
   "file_extension": ".py",
   "mimetype": "text/x-python",
   "name": "python",
   "nbconvert_exporter": "python",
   "pygments_lexer": "ipython3",
   "version": "3.7.6"
  }
 },
 "nbformat": 4,
 "nbformat_minor": 4
}
