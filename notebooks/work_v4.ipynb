{
 "cells": [
  {
   "cell_type": "code",
   "execution_count": 1,
   "metadata": {},
   "outputs": [],
   "source": [
    "import pandas as pd\n",
    "\n",
    "from sklearn.model_selection import train_test_split\n",
    "from xgboost import XGBClassifier\n",
    "from sklearn.ensemble import RandomForestClassifier\n",
    "\n",
    "from sklearn.metrics import (accuracy_score, classification_report,\n",
    "                             confusion_matrix, roc_auc_score)\n",
    "\n",
    "from sklearn.model_selection import KFold\n",
    "from sklearn.model_selection import cross_val_score\n",
    "\n",
    "import timeit\n",
    "import warnings\n",
    "warnings.simplefilter(action='ignore')"
   ]
  },
  {
   "cell_type": "code",
   "execution_count": 2,
   "metadata": {},
   "outputs": [],
   "source": [
    "CO_processed_path = '/home/ubuntu/workspace_rohan/project/data/raw/CO_processed.csv'\n",
    "CO_timeseries_path = '/home/ubuntu/workspace_rohan/project/data/raw/CO_timeseries.csv'"
   ]
  },
  {
   "cell_type": "code",
   "execution_count": 3,
   "metadata": {},
   "outputs": [],
   "source": [
    "data = pd.read_csv(CO_processed_path)\n",
    "data = data.drop([\"Unnamed: 0\"],axis=1)"
   ]
  },
  {
   "cell_type": "code",
   "execution_count": 4,
   "metadata": {},
   "outputs": [],
   "source": [
    "data_tseries = pd.read_csv(CO_timeseries_path)\n",
    "data_tseries = data_tseries.drop([\"Unnamed: 0\"],axis=1)"
   ]
  },
  {
   "cell_type": "code",
   "execution_count": null,
   "metadata": {},
   "outputs": [],
   "source": []
  },
  {
   "cell_type": "code",
   "execution_count": 5,
   "metadata": {},
   "outputs": [
    {
     "data": {
      "text/plain": [
       "(2883584, 31)"
      ]
     },
     "execution_count": 5,
     "metadata": {},
     "output_type": "execute_result"
    }
   ],
   "source": [
    "data.shape"
   ]
  },
  {
   "cell_type": "code",
   "execution_count": 6,
   "metadata": {},
   "outputs": [
    {
     "data": {
      "text/html": [
       "<div>\n",
       "<style scoped>\n",
       "    .dataframe tbody tr th:only-of-type {\n",
       "        vertical-align: middle;\n",
       "    }\n",
       "\n",
       "    .dataframe tbody tr th {\n",
       "        vertical-align: top;\n",
       "    }\n",
       "\n",
       "    .dataframe thead th {\n",
       "        text-align: right;\n",
       "    }\n",
       "</style>\n",
       "<table border=\"1\" class=\"dataframe\">\n",
       "  <thead>\n",
       "    <tr style=\"text-align: right;\">\n",
       "      <th></th>\n",
       "      <th>yr_month</th>\n",
       "      <th>fecha_de_visita</th>\n",
       "      <th>visit_num</th>\n",
       "      <th>codigo_de_cliente</th>\n",
       "      <th>codigo_de_producto</th>\n",
       "      <th>cod_canal</th>\n",
       "      <th>cod_giro</th>\n",
       "      <th>cod_subgiro</th>\n",
       "      <th>desc_region</th>\n",
       "      <th>desc_subregion</th>\n",
       "      <th>...</th>\n",
       "      <th>product_sales_amount_last_3m</th>\n",
       "      <th>product_trnx_last_3m</th>\n",
       "      <th>normalized_rotation</th>\n",
       "      <th>normalized_freq</th>\n",
       "      <th>total_sales_last_3m</th>\n",
       "      <th>total_trnx_last_3m</th>\n",
       "      <th>ratio_sales_last_3m</th>\n",
       "      <th>ratio_trnx_last_3m</th>\n",
       "      <th>bought_last_year_flag</th>\n",
       "      <th>prod_coverage_bucket</th>\n",
       "    </tr>\n",
       "  </thead>\n",
       "  <tbody>\n",
       "    <tr>\n",
       "      <th>0</th>\n",
       "      <td>2021-02</td>\n",
       "      <td>2021-02-22</td>\n",
       "      <td>5</td>\n",
       "      <td>94156234</td>\n",
       "      <td>598795</td>\n",
       "      <td>2.0</td>\n",
       "      <td>140.0</td>\n",
       "      <td>141.0</td>\n",
       "      <td>0</td>\n",
       "      <td>2</td>\n",
       "      <td>...</td>\n",
       "      <td>68385.0</td>\n",
       "      <td>5</td>\n",
       "      <td>0.214286</td>\n",
       "      <td>0.555556</td>\n",
       "      <td>1656929.40</td>\n",
       "      <td>12.0</td>\n",
       "      <td>0.041272</td>\n",
       "      <td>0.416667</td>\n",
       "      <td>0</td>\n",
       "      <td>1</td>\n",
       "    </tr>\n",
       "    <tr>\n",
       "      <th>1</th>\n",
       "      <td>2021-02</td>\n",
       "      <td>2021-02-25</td>\n",
       "      <td>3</td>\n",
       "      <td>9431428</td>\n",
       "      <td>509581</td>\n",
       "      <td>6.0</td>\n",
       "      <td>810.0</td>\n",
       "      <td>808.0</td>\n",
       "      <td>0</td>\n",
       "      <td>2</td>\n",
       "      <td>...</td>\n",
       "      <td>0.0</td>\n",
       "      <td>0</td>\n",
       "      <td>NaN</td>\n",
       "      <td>NaN</td>\n",
       "      <td>762578.61</td>\n",
       "      <td>9.0</td>\n",
       "      <td>0.000000</td>\n",
       "      <td>0.000000</td>\n",
       "      <td>0</td>\n",
       "      <td>1</td>\n",
       "    </tr>\n",
       "    <tr>\n",
       "      <th>2</th>\n",
       "      <td>2021-02</td>\n",
       "      <td>2021-02-25</td>\n",
       "      <td>8</td>\n",
       "      <td>9431812</td>\n",
       "      <td>514444</td>\n",
       "      <td>2.0</td>\n",
       "      <td>140.0</td>\n",
       "      <td>142.0</td>\n",
       "      <td>0</td>\n",
       "      <td>2</td>\n",
       "      <td>...</td>\n",
       "      <td>0.0</td>\n",
       "      <td>0</td>\n",
       "      <td>NaN</td>\n",
       "      <td>NaN</td>\n",
       "      <td>996592.85</td>\n",
       "      <td>20.0</td>\n",
       "      <td>0.000000</td>\n",
       "      <td>0.000000</td>\n",
       "      <td>0</td>\n",
       "      <td>0</td>\n",
       "    </tr>\n",
       "    <tr>\n",
       "      <th>3</th>\n",
       "      <td>2021-02</td>\n",
       "      <td>2021-02-25</td>\n",
       "      <td>4</td>\n",
       "      <td>9440422</td>\n",
       "      <td>599045</td>\n",
       "      <td>2.0</td>\n",
       "      <td>150.0</td>\n",
       "      <td>151.0</td>\n",
       "      <td>0</td>\n",
       "      <td>2</td>\n",
       "      <td>...</td>\n",
       "      <td>0.0</td>\n",
       "      <td>0</td>\n",
       "      <td>NaN</td>\n",
       "      <td>NaN</td>\n",
       "      <td>891713.40</td>\n",
       "      <td>14.0</td>\n",
       "      <td>0.000000</td>\n",
       "      <td>0.000000</td>\n",
       "      <td>0</td>\n",
       "      <td>0</td>\n",
       "    </tr>\n",
       "    <tr>\n",
       "      <th>4</th>\n",
       "      <td>2021-02</td>\n",
       "      <td>2021-02-25</td>\n",
       "      <td>4</td>\n",
       "      <td>9455676</td>\n",
       "      <td>508403</td>\n",
       "      <td>2.0</td>\n",
       "      <td>150.0</td>\n",
       "      <td>151.0</td>\n",
       "      <td>0</td>\n",
       "      <td>2</td>\n",
       "      <td>...</td>\n",
       "      <td>0.0</td>\n",
       "      <td>0</td>\n",
       "      <td>NaN</td>\n",
       "      <td>NaN</td>\n",
       "      <td>2980016.26</td>\n",
       "      <td>18.0</td>\n",
       "      <td>0.000000</td>\n",
       "      <td>0.000000</td>\n",
       "      <td>0</td>\n",
       "      <td>3</td>\n",
       "    </tr>\n",
       "  </tbody>\n",
       "</table>\n",
       "<p>5 rows × 31 columns</p>\n",
       "</div>"
      ],
      "text/plain": [
       "  yr_month fecha_de_visita  visit_num  codigo_de_cliente  codigo_de_producto  \\\n",
       "0  2021-02      2021-02-22          5           94156234              598795   \n",
       "1  2021-02      2021-02-25          3            9431428              509581   \n",
       "2  2021-02      2021-02-25          8            9431812              514444   \n",
       "3  2021-02      2021-02-25          4            9440422              599045   \n",
       "4  2021-02      2021-02-25          4            9455676              508403   \n",
       "\n",
       "   cod_canal  cod_giro  cod_subgiro  desc_region  desc_subregion  ...  \\\n",
       "0        2.0     140.0        141.0            0               2  ...   \n",
       "1        6.0     810.0        808.0            0               2  ...   \n",
       "2        2.0     140.0        142.0            0               2  ...   \n",
       "3        2.0     150.0        151.0            0               2  ...   \n",
       "4        2.0     150.0        151.0            0               2  ...   \n",
       "\n",
       "   product_sales_amount_last_3m  product_trnx_last_3m  normalized_rotation  \\\n",
       "0                       68385.0                     5             0.214286   \n",
       "1                           0.0                     0                  NaN   \n",
       "2                           0.0                     0                  NaN   \n",
       "3                           0.0                     0                  NaN   \n",
       "4                           0.0                     0                  NaN   \n",
       "\n",
       "   normalized_freq  total_sales_last_3m  total_trnx_last_3m  \\\n",
       "0         0.555556           1656929.40                12.0   \n",
       "1              NaN            762578.61                 9.0   \n",
       "2              NaN            996592.85                20.0   \n",
       "3              NaN            891713.40                14.0   \n",
       "4              NaN           2980016.26                18.0   \n",
       "\n",
       "   ratio_sales_last_3m  ratio_trnx_last_3m  bought_last_year_flag  \\\n",
       "0             0.041272            0.416667                      0   \n",
       "1             0.000000            0.000000                      0   \n",
       "2             0.000000            0.000000                      0   \n",
       "3             0.000000            0.000000                      0   \n",
       "4             0.000000            0.000000                      0   \n",
       "\n",
       "   prod_coverage_bucket  \n",
       "0                     1  \n",
       "1                     1  \n",
       "2                     0  \n",
       "3                     0  \n",
       "4                     3  \n",
       "\n",
       "[5 rows x 31 columns]"
      ]
     },
     "execution_count": 6,
     "metadata": {},
     "output_type": "execute_result"
    }
   ],
   "source": [
    "data.head()"
   ]
  },
  {
   "cell_type": "code",
   "execution_count": null,
   "metadata": {},
   "outputs": [],
   "source": []
  },
  {
   "cell_type": "code",
   "execution_count": 7,
   "metadata": {},
   "outputs": [
    {
     "data": {
      "text/plain": [
       "(3780431, 23)"
      ]
     },
     "execution_count": 7,
     "metadata": {},
     "output_type": "execute_result"
    }
   ],
   "source": [
    "data_tseries.shape"
   ]
  },
  {
   "cell_type": "code",
   "execution_count": 8,
   "metadata": {},
   "outputs": [
    {
     "data": {
      "text/html": [
       "<div>\n",
       "<style scoped>\n",
       "    .dataframe tbody tr th:only-of-type {\n",
       "        vertical-align: middle;\n",
       "    }\n",
       "\n",
       "    .dataframe tbody tr th {\n",
       "        vertical-align: top;\n",
       "    }\n",
       "\n",
       "    .dataframe thead th {\n",
       "        text-align: right;\n",
       "    }\n",
       "</style>\n",
       "<table border=\"1\" class=\"dataframe\">\n",
       "  <thead>\n",
       "    <tr style=\"text-align: right;\">\n",
       "      <th></th>\n",
       "      <th>fecha_de_visita</th>\n",
       "      <th>codigo_de_cliente</th>\n",
       "      <th>codigo_de_producto</th>\n",
       "      <th>week_1</th>\n",
       "      <th>week_2</th>\n",
       "      <th>week_3</th>\n",
       "      <th>week_4</th>\n",
       "      <th>week_5</th>\n",
       "      <th>week_6</th>\n",
       "      <th>week_7</th>\n",
       "      <th>...</th>\n",
       "      <th>week_11</th>\n",
       "      <th>week_12</th>\n",
       "      <th>week_13</th>\n",
       "      <th>week_14</th>\n",
       "      <th>week_15</th>\n",
       "      <th>week_16</th>\n",
       "      <th>week_17</th>\n",
       "      <th>week_18</th>\n",
       "      <th>week_19</th>\n",
       "      <th>week_20</th>\n",
       "    </tr>\n",
       "  </thead>\n",
       "  <tbody>\n",
       "    <tr>\n",
       "      <th>0</th>\n",
       "      <td>2020-12-04</td>\n",
       "      <td>94100001</td>\n",
       "      <td>508588</td>\n",
       "      <td>0</td>\n",
       "      <td>0</td>\n",
       "      <td>0</td>\n",
       "      <td>0</td>\n",
       "      <td>0</td>\n",
       "      <td>0</td>\n",
       "      <td>0</td>\n",
       "      <td>...</td>\n",
       "      <td>0</td>\n",
       "      <td>0</td>\n",
       "      <td>0</td>\n",
       "      <td>0</td>\n",
       "      <td>0</td>\n",
       "      <td>0</td>\n",
       "      <td>0</td>\n",
       "      <td>0</td>\n",
       "      <td>0</td>\n",
       "      <td>0</td>\n",
       "    </tr>\n",
       "    <tr>\n",
       "      <th>1</th>\n",
       "      <td>2020-12-04</td>\n",
       "      <td>94100001</td>\n",
       "      <td>598913</td>\n",
       "      <td>0</td>\n",
       "      <td>0</td>\n",
       "      <td>0</td>\n",
       "      <td>0</td>\n",
       "      <td>0</td>\n",
       "      <td>0</td>\n",
       "      <td>0</td>\n",
       "      <td>...</td>\n",
       "      <td>0</td>\n",
       "      <td>0</td>\n",
       "      <td>0</td>\n",
       "      <td>1</td>\n",
       "      <td>0</td>\n",
       "      <td>0</td>\n",
       "      <td>0</td>\n",
       "      <td>0</td>\n",
       "      <td>0</td>\n",
       "      <td>0</td>\n",
       "    </tr>\n",
       "    <tr>\n",
       "      <th>2</th>\n",
       "      <td>2020-12-04</td>\n",
       "      <td>94100001</td>\n",
       "      <td>509581</td>\n",
       "      <td>0</td>\n",
       "      <td>0</td>\n",
       "      <td>2</td>\n",
       "      <td>0</td>\n",
       "      <td>0</td>\n",
       "      <td>2</td>\n",
       "      <td>0</td>\n",
       "      <td>...</td>\n",
       "      <td>0</td>\n",
       "      <td>0</td>\n",
       "      <td>0</td>\n",
       "      <td>0</td>\n",
       "      <td>0</td>\n",
       "      <td>0</td>\n",
       "      <td>0</td>\n",
       "      <td>0</td>\n",
       "      <td>0</td>\n",
       "      <td>0</td>\n",
       "    </tr>\n",
       "    <tr>\n",
       "      <th>3</th>\n",
       "      <td>2020-12-04</td>\n",
       "      <td>94100001</td>\n",
       "      <td>509641</td>\n",
       "      <td>0</td>\n",
       "      <td>0</td>\n",
       "      <td>0</td>\n",
       "      <td>0</td>\n",
       "      <td>0</td>\n",
       "      <td>2</td>\n",
       "      <td>0</td>\n",
       "      <td>...</td>\n",
       "      <td>2</td>\n",
       "      <td>0</td>\n",
       "      <td>0</td>\n",
       "      <td>0</td>\n",
       "      <td>0</td>\n",
       "      <td>0</td>\n",
       "      <td>1</td>\n",
       "      <td>0</td>\n",
       "      <td>0</td>\n",
       "      <td>2</td>\n",
       "    </tr>\n",
       "    <tr>\n",
       "      <th>4</th>\n",
       "      <td>2020-12-04</td>\n",
       "      <td>94100001</td>\n",
       "      <td>598846</td>\n",
       "      <td>0</td>\n",
       "      <td>0</td>\n",
       "      <td>0</td>\n",
       "      <td>0</td>\n",
       "      <td>0</td>\n",
       "      <td>0</td>\n",
       "      <td>0</td>\n",
       "      <td>...</td>\n",
       "      <td>0</td>\n",
       "      <td>2</td>\n",
       "      <td>0</td>\n",
       "      <td>0</td>\n",
       "      <td>0</td>\n",
       "      <td>0</td>\n",
       "      <td>0</td>\n",
       "      <td>0</td>\n",
       "      <td>0</td>\n",
       "      <td>0</td>\n",
       "    </tr>\n",
       "  </tbody>\n",
       "</table>\n",
       "<p>5 rows × 23 columns</p>\n",
       "</div>"
      ],
      "text/plain": [
       "  fecha_de_visita  codigo_de_cliente  codigo_de_producto  week_1  week_2  \\\n",
       "0      2020-12-04           94100001              508588       0       0   \n",
       "1      2020-12-04           94100001              598913       0       0   \n",
       "2      2020-12-04           94100001              509581       0       0   \n",
       "3      2020-12-04           94100001              509641       0       0   \n",
       "4      2020-12-04           94100001              598846       0       0   \n",
       "\n",
       "   week_3  week_4  week_5  week_6  week_7  ...  week_11  week_12  week_13  \\\n",
       "0       0       0       0       0       0  ...        0        0        0   \n",
       "1       0       0       0       0       0  ...        0        0        0   \n",
       "2       2       0       0       2       0  ...        0        0        0   \n",
       "3       0       0       0       2       0  ...        2        0        0   \n",
       "4       0       0       0       0       0  ...        0        2        0   \n",
       "\n",
       "   week_14  week_15  week_16  week_17  week_18  week_19  week_20  \n",
       "0        0        0        0        0        0        0        0  \n",
       "1        1        0        0        0        0        0        0  \n",
       "2        0        0        0        0        0        0        0  \n",
       "3        0        0        0        1        0        0        2  \n",
       "4        0        0        0        0        0        0        0  \n",
       "\n",
       "[5 rows x 23 columns]"
      ]
     },
     "execution_count": 8,
     "metadata": {},
     "output_type": "execute_result"
    }
   ],
   "source": [
    "data_tseries.head()"
   ]
  },
  {
   "cell_type": "code",
   "execution_count": null,
   "metadata": {},
   "outputs": [],
   "source": []
  },
  {
   "cell_type": "code",
   "execution_count": 9,
   "metadata": {},
   "outputs": [],
   "source": [
    "data_tseries = pd.merge(data_tseries, data, how='left', left_on=['fecha_de_visita', 'codigo_de_cliente', 'codigo_de_producto'], right_on=['fecha_de_visita', 'codigo_de_cliente', 'codigo_de_producto'])"
   ]
  },
  {
   "cell_type": "code",
   "execution_count": 10,
   "metadata": {},
   "outputs": [
    {
     "data": {
      "text/html": [
       "<div>\n",
       "<style scoped>\n",
       "    .dataframe tbody tr th:only-of-type {\n",
       "        vertical-align: middle;\n",
       "    }\n",
       "\n",
       "    .dataframe tbody tr th {\n",
       "        vertical-align: top;\n",
       "    }\n",
       "\n",
       "    .dataframe thead th {\n",
       "        text-align: right;\n",
       "    }\n",
       "</style>\n",
       "<table border=\"1\" class=\"dataframe\">\n",
       "  <thead>\n",
       "    <tr style=\"text-align: right;\">\n",
       "      <th></th>\n",
       "      <th>fecha_de_visita</th>\n",
       "      <th>codigo_de_cliente</th>\n",
       "      <th>codigo_de_producto</th>\n",
       "      <th>week_1</th>\n",
       "      <th>week_2</th>\n",
       "      <th>week_3</th>\n",
       "      <th>week_4</th>\n",
       "      <th>week_5</th>\n",
       "      <th>week_6</th>\n",
       "      <th>week_7</th>\n",
       "      <th>...</th>\n",
       "      <th>product_sales_amount_last_3m</th>\n",
       "      <th>product_trnx_last_3m</th>\n",
       "      <th>normalized_rotation</th>\n",
       "      <th>normalized_freq</th>\n",
       "      <th>total_sales_last_3m</th>\n",
       "      <th>total_trnx_last_3m</th>\n",
       "      <th>ratio_sales_last_3m</th>\n",
       "      <th>ratio_trnx_last_3m</th>\n",
       "      <th>bought_last_year_flag</th>\n",
       "      <th>prod_coverage_bucket</th>\n",
       "    </tr>\n",
       "  </thead>\n",
       "  <tbody>\n",
       "    <tr>\n",
       "      <th>0</th>\n",
       "      <td>2020-12-04</td>\n",
       "      <td>94100001</td>\n",
       "      <td>508588</td>\n",
       "      <td>0</td>\n",
       "      <td>0</td>\n",
       "      <td>0</td>\n",
       "      <td>0</td>\n",
       "      <td>0</td>\n",
       "      <td>0</td>\n",
       "      <td>0</td>\n",
       "      <td>...</td>\n",
       "      <td>0.0</td>\n",
       "      <td>0.0</td>\n",
       "      <td>NaN</td>\n",
       "      <td>NaN</td>\n",
       "      <td>61400.0</td>\n",
       "      <td>7.0</td>\n",
       "      <td>0.0</td>\n",
       "      <td>0.0</td>\n",
       "      <td>0.0</td>\n",
       "      <td>5.0</td>\n",
       "    </tr>\n",
       "    <tr>\n",
       "      <th>1</th>\n",
       "      <td>2020-12-04</td>\n",
       "      <td>94100001</td>\n",
       "      <td>598913</td>\n",
       "      <td>0</td>\n",
       "      <td>0</td>\n",
       "      <td>0</td>\n",
       "      <td>0</td>\n",
       "      <td>0</td>\n",
       "      <td>0</td>\n",
       "      <td>0</td>\n",
       "      <td>...</td>\n",
       "      <td>NaN</td>\n",
       "      <td>NaN</td>\n",
       "      <td>NaN</td>\n",
       "      <td>NaN</td>\n",
       "      <td>NaN</td>\n",
       "      <td>NaN</td>\n",
       "      <td>NaN</td>\n",
       "      <td>NaN</td>\n",
       "      <td>NaN</td>\n",
       "      <td>NaN</td>\n",
       "    </tr>\n",
       "  </tbody>\n",
       "</table>\n",
       "<p>2 rows × 51 columns</p>\n",
       "</div>"
      ],
      "text/plain": [
       "  fecha_de_visita  codigo_de_cliente  codigo_de_producto  week_1  week_2  \\\n",
       "0      2020-12-04           94100001              508588       0       0   \n",
       "1      2020-12-04           94100001              598913       0       0   \n",
       "\n",
       "   week_3  week_4  week_5  week_6  week_7  ...  product_sales_amount_last_3m  \\\n",
       "0       0       0       0       0       0  ...                           0.0   \n",
       "1       0       0       0       0       0  ...                           NaN   \n",
       "\n",
       "   product_trnx_last_3m  normalized_rotation  normalized_freq  \\\n",
       "0                   0.0                  NaN              NaN   \n",
       "1                   NaN                  NaN              NaN   \n",
       "\n",
       "   total_sales_last_3m  total_trnx_last_3m  ratio_sales_last_3m  \\\n",
       "0              61400.0                 7.0                  0.0   \n",
       "1                  NaN                 NaN                  NaN   \n",
       "\n",
       "   ratio_trnx_last_3m  bought_last_year_flag  prod_coverage_bucket  \n",
       "0                 0.0                    0.0                   5.0  \n",
       "1                 NaN                    NaN                   NaN  \n",
       "\n",
       "[2 rows x 51 columns]"
      ]
     },
     "execution_count": 10,
     "metadata": {},
     "output_type": "execute_result"
    }
   ],
   "source": [
    "data_tseries.head(2)"
   ]
  },
  {
   "cell_type": "code",
   "execution_count": null,
   "metadata": {},
   "outputs": [],
   "source": []
  },
  {
   "cell_type": "code",
   "execution_count": 11,
   "metadata": {},
   "outputs": [],
   "source": [
    "data_tseries = data_tseries.dropna()"
   ]
  },
  {
   "cell_type": "code",
   "execution_count": 12,
   "metadata": {},
   "outputs": [
    {
     "data": {
      "text/plain": [
       "(1330145, 51)"
      ]
     },
     "execution_count": 12,
     "metadata": {},
     "output_type": "execute_result"
    }
   ],
   "source": [
    "data_tseries.shape"
   ]
  },
  {
   "cell_type": "code",
   "execution_count": null,
   "metadata": {},
   "outputs": [],
   "source": []
  },
  {
   "cell_type": "code",
   "execution_count": 13,
   "metadata": {},
   "outputs": [
    {
     "data": {
      "text/plain": [
       "(0.67, 443065, 887080)"
      ]
     },
     "execution_count": 13,
     "metadata": {},
     "output_type": "execute_result"
    }
   ],
   "source": [
    "not_bought_count = data_tseries.bought_in_the_visit.value_counts()[0]\n",
    "bought_count = data_tseries.bought_in_the_visit.value_counts()[1]\n",
    "\n",
    "baseline = round(max(bought_count, not_bought_count)/ (bought_count + not_bought_count),2)\n",
    "baseline, bought_count, not_bought_count"
   ]
  },
  {
   "cell_type": "code",
   "execution_count": null,
   "metadata": {},
   "outputs": [],
   "source": []
  },
  {
   "cell_type": "code",
   "execution_count": null,
   "metadata": {},
   "outputs": [],
   "source": []
  },
  {
   "cell_type": "markdown",
   "metadata": {},
   "source": [
    "### Direct train/test (XGBoost)"
   ]
  },
  {
   "cell_type": "code",
   "execution_count": null,
   "metadata": {},
   "outputs": [],
   "source": [
    "features = ['week_1',\n",
    "       'week_2', 'week_3', 'week_4', 'week_5', 'week_6', 'week_7', 'week_8',\n",
    "       'week_9', 'week_10', 'week_11', 'week_12', 'week_13', 'week_14',\n",
    "       'week_15', 'week_16', 'week_17', 'week_18', 'week_19', 'cod_canal', 'cod_giro', 'cod_subgiro',\n",
    "       'desc_region', 'desc_subregion', 'desc_division', 'cod_zona', 'ruta',\n",
    "       'cod_modulo', 'categoria', 'marca', 'desc_sabor', 'desc_tipoenvase',\n",
    "       'desc_subfamilia', 'contenido',\n",
    "       'product_sales_amount_last_3m', 'product_trnx_last_3m',\n",
    "       'normalized_rotation', 'normalized_freq', 'total_sales_last_3m',\n",
    "       'total_trnx_last_3m', 'ratio_sales_last_3m', 'ratio_trnx_last_3m',\n",
    "       'bought_last_year_flag', 'prod_coverage_bucket']"
   ]
  },
  {
   "cell_type": "code",
   "execution_count": null,
   "metadata": {},
   "outputs": [],
   "source": [
    "X = data_tseries[features]\n",
    "y = data_tseries[\"bought_in_the_visit\"]"
   ]
  },
  {
   "cell_type": "code",
   "execution_count": null,
   "metadata": {},
   "outputs": [],
   "source": [
    "seed = 7\n",
    "test_size = 0.33\n",
    "X_train, X_test, y_train, y_test = train_test_split(X, y, test_size=test_size, random_state=seed)"
   ]
  },
  {
   "cell_type": "code",
   "execution_count": null,
   "metadata": {},
   "outputs": [],
   "source": [
    "model = XGBClassifier(use_label_encoder = False, n_estimators = 500)"
   ]
  },
  {
   "cell_type": "code",
   "execution_count": null,
   "metadata": {},
   "outputs": [],
   "source": [
    "starttime = timeit.default_timer()\n",
    "print(\"The start time is :\",starttime)\n",
    "\n",
    "model.fit(X_train, y_train)\n",
    "\n",
    "print(\"Total training time is :\", timeit.default_timer() - starttime)"
   ]
  },
  {
   "cell_type": "code",
   "execution_count": null,
   "metadata": {},
   "outputs": [],
   "source": [
    "y_pred = model.predict(X_test)\n",
    "y_pred_proba = model.predict_proba(X_test)"
   ]
  },
  {
   "cell_type": "code",
   "execution_count": null,
   "metadata": {},
   "outputs": [],
   "source": [
    "predictions = [round(value) for value in y_pred]"
   ]
  },
  {
   "cell_type": "code",
   "execution_count": null,
   "metadata": {},
   "outputs": [],
   "source": [
    "accuracy = accuracy_score(y_test, predictions)\n",
    "print(\"Accuracy: %.2f%%\" % (accuracy * 100.0))"
   ]
  },
  {
   "cell_type": "code",
   "execution_count": null,
   "metadata": {},
   "outputs": [],
   "source": [
    "auc = roc_auc_score(y_test, y_pred_proba[:, 1])\n",
    "print(\"AUC: %.2f%%\" % (auc * 100.0))"
   ]
  },
  {
   "cell_type": "code",
   "execution_count": null,
   "metadata": {},
   "outputs": [],
   "source": [
    "mtx = confusion_matrix(y_test, predictions)\n",
    "print(mtx)"
   ]
  },
  {
   "cell_type": "code",
   "execution_count": null,
   "metadata": {},
   "outputs": [],
   "source": [
    "crep = classification_report(y_test, predictions)\n",
    "print(crep)"
   ]
  },
  {
   "cell_type": "code",
   "execution_count": null,
   "metadata": {},
   "outputs": [],
   "source": []
  },
  {
   "cell_type": "code",
   "execution_count": null,
   "metadata": {},
   "outputs": [],
   "source": []
  },
  {
   "cell_type": "markdown",
   "metadata": {},
   "source": [
    "### Direct cross validation (XGBoost)"
   ]
  },
  {
   "cell_type": "code",
   "execution_count": null,
   "metadata": {},
   "outputs": [],
   "source": [
    "features = ['week_1',\n",
    "       'week_2', 'week_3', 'week_4', 'week_5', 'week_6', 'week_7', 'week_8',\n",
    "       'week_9', 'week_10', 'week_11', 'week_12', 'week_13', 'week_14',\n",
    "       'week_15', 'week_16', 'week_17', 'week_18', 'week_19', 'cod_canal', 'cod_giro', 'cod_subgiro',\n",
    "       'desc_region', 'desc_subregion', 'desc_division', 'cod_zona', 'ruta',\n",
    "       'cod_modulo', 'categoria', 'marca', 'desc_sabor', 'desc_tipoenvase',\n",
    "       'desc_subfamilia', 'contenido',\n",
    "       'product_sales_amount_last_3m', 'product_trnx_last_3m',\n",
    "       'normalized_rotation', 'normalized_freq', 'total_sales_last_3m',\n",
    "       'total_trnx_last_3m', 'ratio_sales_last_3m', 'ratio_trnx_last_3m',\n",
    "       'bought_last_year_flag', 'prod_coverage_bucket']"
   ]
  },
  {
   "cell_type": "code",
   "execution_count": null,
   "metadata": {},
   "outputs": [],
   "source": [
    "model = XGBClassifier(use_label_encoder = False, n_estimators = 500)"
   ]
  },
  {
   "cell_type": "code",
   "execution_count": null,
   "metadata": {},
   "outputs": [],
   "source": [
    "X = data_tseries[features]\n",
    "y = data_tseries[\"bought_in_the_visit\"]"
   ]
  },
  {
   "cell_type": "code",
   "execution_count": null,
   "metadata": {},
   "outputs": [],
   "source": [
    "seed = 7"
   ]
  },
  {
   "cell_type": "code",
   "execution_count": null,
   "metadata": {},
   "outputs": [],
   "source": [
    "kfold = KFold(n_splits=5, random_state=seed)"
   ]
  },
  {
   "cell_type": "code",
   "execution_count": null,
   "metadata": {},
   "outputs": [],
   "source": [
    "starttime = timeit.default_timer()\n",
    "print(\"The start time is :\",starttime)\n",
    "\n",
    "results = cross_val_score(model, X, y, cv=kfold)\n",
    "\n",
    "print(\"Total training time is :\", timeit.default_timer() - starttime)"
   ]
  },
  {
   "cell_type": "code",
   "execution_count": null,
   "metadata": {},
   "outputs": [],
   "source": [
    "print(\"Accuracy: %.2f%%\" % (results.mean()*100))"
   ]
  },
  {
   "cell_type": "code",
   "execution_count": null,
   "metadata": {},
   "outputs": [],
   "source": [
    "results"
   ]
  },
  {
   "cell_type": "code",
   "execution_count": null,
   "metadata": {},
   "outputs": [],
   "source": [
    "model = XGBClassifier(use_label_encoder = False, n_estimators = 500)"
   ]
  },
  {
   "cell_type": "code",
   "execution_count": null,
   "metadata": {},
   "outputs": [],
   "source": [
    "X = data_tseries[features]\n",
    "y = data_tseries[\"bought_in_the_visit\"]"
   ]
  },
  {
   "cell_type": "code",
   "execution_count": null,
   "metadata": {},
   "outputs": [],
   "source": [
    "seed = 7"
   ]
  },
  {
   "cell_type": "code",
   "execution_count": null,
   "metadata": {},
   "outputs": [],
   "source": [
    "kfold = KFold(n_splits=5, random_state=seed)"
   ]
  },
  {
   "cell_type": "code",
   "execution_count": null,
   "metadata": {},
   "outputs": [],
   "source": [
    "results = cross_val_score(model, X, y, scoring='roc_auc',cv=kfold)"
   ]
  },
  {
   "cell_type": "code",
   "execution_count": null,
   "metadata": {},
   "outputs": [],
   "source": [
    "results"
   ]
  },
  {
   "cell_type": "code",
   "execution_count": null,
   "metadata": {},
   "outputs": [],
   "source": [
    "print(\"AUC: %.2f%%\" % (results.mean()*100))"
   ]
  },
  {
   "cell_type": "code",
   "execution_count": null,
   "metadata": {},
   "outputs": [],
   "source": []
  },
  {
   "cell_type": "code",
   "execution_count": null,
   "metadata": {},
   "outputs": [],
   "source": []
  },
  {
   "cell_type": "markdown",
   "metadata": {},
   "source": [
    "### Direct held out (last 2 months) (XGBoost)"
   ]
  },
  {
   "cell_type": "code",
   "execution_count": null,
   "metadata": {},
   "outputs": [],
   "source": [
    "features = ['week_1',\n",
    "       'week_2', 'week_3', 'week_4', 'week_5', 'week_6', 'week_7', 'week_8',\n",
    "       'week_9', 'week_10', 'week_11', 'week_12', 'week_13', 'week_14',\n",
    "       'week_15', 'week_16', 'week_17', 'week_18', 'week_19', 'cod_canal', 'cod_giro', 'cod_subgiro',\n",
    "       'desc_region', 'desc_subregion', 'desc_division', 'cod_zona', 'ruta',\n",
    "       'cod_modulo', 'categoria', 'marca', 'desc_sabor', 'desc_tipoenvase',\n",
    "       'desc_subfamilia', 'contenido',\n",
    "       'product_sales_amount_last_3m', 'product_trnx_last_3m',\n",
    "       'normalized_rotation', 'normalized_freq', 'total_sales_last_3m',\n",
    "       'total_trnx_last_3m', 'ratio_sales_last_3m', 'ratio_trnx_last_3m',\n",
    "       'bought_last_year_flag', 'prod_coverage_bucket']"
   ]
  },
  {
   "cell_type": "code",
   "execution_count": null,
   "metadata": {},
   "outputs": [],
   "source": [
    "data_tseries['fecha_de_visita_dt'] = pd.to_datetime(data_tseries['fecha_de_visita'], format=\"%Y-%m-%d\")"
   ]
  },
  {
   "cell_type": "code",
   "execution_count": null,
   "metadata": {},
   "outputs": [],
   "source": [
    "train = data_tseries[data_tseries['fecha_de_visita_dt'] < pd.to_datetime('2021-03-31', format=\"%Y-%m-%d\")]"
   ]
  },
  {
   "cell_type": "code",
   "execution_count": null,
   "metadata": {},
   "outputs": [],
   "source": [
    "test = data_tseries[data_tseries['fecha_de_visita_dt'] >= pd.to_datetime('2021-03-31', format=\"%Y-%m-%d\")]"
   ]
  },
  {
   "cell_type": "code",
   "execution_count": null,
   "metadata": {},
   "outputs": [],
   "source": [
    "X_train = train[features]\n",
    "X_test = test[features]\n",
    "y_train = train[\"bought_in_the_visit\"]\n",
    "y_test = test[\"bought_in_the_visit\"]"
   ]
  },
  {
   "cell_type": "code",
   "execution_count": null,
   "metadata": {},
   "outputs": [],
   "source": [
    "model = XGBClassifier(use_label_encoder = False, n_estimators = 500)"
   ]
  },
  {
   "cell_type": "code",
   "execution_count": null,
   "metadata": {},
   "outputs": [],
   "source": [
    "starttime = timeit.default_timer()\n",
    "print(\"The start time is :\",starttime)\n",
    "\n",
    "model.fit(X_train, y_train)\n",
    "\n",
    "print(\"Total training time is :\", timeit.default_timer() - starttime)"
   ]
  },
  {
   "cell_type": "code",
   "execution_count": null,
   "metadata": {},
   "outputs": [],
   "source": [
    "y_pred = model.predict(X_test)\n",
    "y_pred_proba = model.predict_proba(X_test)"
   ]
  },
  {
   "cell_type": "code",
   "execution_count": null,
   "metadata": {},
   "outputs": [],
   "source": [
    "predictions = [round(value) for value in y_pred]"
   ]
  },
  {
   "cell_type": "code",
   "execution_count": null,
   "metadata": {},
   "outputs": [],
   "source": [
    "accuracy = accuracy_score(y_test, predictions)\n",
    "print(\"Accuracy: %.2f%%\" % (accuracy * 100.0))"
   ]
  },
  {
   "cell_type": "code",
   "execution_count": null,
   "metadata": {},
   "outputs": [],
   "source": [
    "auc = roc_auc_score(y_test, y_pred_proba[:, 1])\n",
    "print(\"AUC: %.2f%%\" % (auc * 100.0))"
   ]
  },
  {
   "cell_type": "code",
   "execution_count": null,
   "metadata": {},
   "outputs": [],
   "source": [
    "mtx = confusion_matrix(y_test, predictions)\n",
    "print(mtx)"
   ]
  },
  {
   "cell_type": "code",
   "execution_count": null,
   "metadata": {},
   "outputs": [],
   "source": [
    "crep = classification_report(y_test, predictions)\n",
    "print(crep)"
   ]
  },
  {
   "cell_type": "code",
   "execution_count": null,
   "metadata": {},
   "outputs": [],
   "source": []
  },
  {
   "cell_type": "code",
   "execution_count": null,
   "metadata": {},
   "outputs": [],
   "source": []
  },
  {
   "cell_type": "markdown",
   "metadata": {},
   "source": [
    "### Direct train/test (Random Forest)"
   ]
  },
  {
   "cell_type": "code",
   "execution_count": null,
   "metadata": {},
   "outputs": [],
   "source": [
    "features = ['week_1',\n",
    "       'week_2', 'week_3', 'week_4', 'week_5', 'week_6', 'week_7', 'week_8',\n",
    "       'week_9', 'week_10', 'week_11', 'week_12', 'week_13', 'week_14',\n",
    "       'week_15', 'week_16', 'week_17', 'week_18', 'week_19', 'cod_canal', 'cod_giro', 'cod_subgiro',\n",
    "       'desc_region', 'desc_subregion', 'desc_division', 'cod_zona', 'ruta',\n",
    "       'cod_modulo', 'categoria', 'marca', 'desc_sabor', 'desc_tipoenvase',\n",
    "       'desc_subfamilia', 'contenido',\n",
    "       'product_sales_amount_last_3m', 'product_trnx_last_3m',\n",
    "       'normalized_rotation', 'normalized_freq', 'total_sales_last_3m',\n",
    "       'total_trnx_last_3m', 'ratio_sales_last_3m', 'ratio_trnx_last_3m',\n",
    "       'bought_last_year_flag', 'prod_coverage_bucket']"
   ]
  },
  {
   "cell_type": "code",
   "execution_count": null,
   "metadata": {},
   "outputs": [],
   "source": [
    "X = data_tseries[features]\n",
    "y = data_tseries[\"bought_in_the_visit\"]"
   ]
  },
  {
   "cell_type": "code",
   "execution_count": null,
   "metadata": {},
   "outputs": [],
   "source": [
    "seed = 7\n",
    "test_size = 0.33\n",
    "X_train, X_test, y_train, y_test = train_test_split(X, y, test_size=test_size, random_state=seed)"
   ]
  },
  {
   "cell_type": "code",
   "execution_count": null,
   "metadata": {},
   "outputs": [],
   "source": [
    "model = RandomForestClassifier()"
   ]
  },
  {
   "cell_type": "code",
   "execution_count": null,
   "metadata": {},
   "outputs": [],
   "source": [
    "starttime = timeit.default_timer()\n",
    "print(\"The start time is :\",starttime)\n",
    "\n",
    "model.fit(X_train, y_train)\n",
    "\n",
    "print(\"Total training time is :\", timeit.default_timer() - starttime)"
   ]
  },
  {
   "cell_type": "code",
   "execution_count": null,
   "metadata": {},
   "outputs": [],
   "source": [
    "y_pred = model.predict(X_test)\n",
    "y_pred_proba = model.predict_proba(X_test)"
   ]
  },
  {
   "cell_type": "code",
   "execution_count": null,
   "metadata": {},
   "outputs": [],
   "source": [
    "predictions = [round(value) for value in y_pred]"
   ]
  },
  {
   "cell_type": "code",
   "execution_count": null,
   "metadata": {},
   "outputs": [],
   "source": [
    "accuracy = accuracy_score(y_test, predictions)\n",
    "print(\"Accuracy: %.2f%%\" % (accuracy * 100.0))"
   ]
  },
  {
   "cell_type": "code",
   "execution_count": null,
   "metadata": {},
   "outputs": [],
   "source": [
    "auc = roc_auc_score(y_test, y_pred_proba[:, 1])\n",
    "print(\"AUC: %.2f%%\" % (auc * 100.0))"
   ]
  },
  {
   "cell_type": "code",
   "execution_count": null,
   "metadata": {},
   "outputs": [],
   "source": [
    "mtx = confusion_matrix(y_test, predictions)\n",
    "print(mtx)"
   ]
  },
  {
   "cell_type": "code",
   "execution_count": null,
   "metadata": {},
   "outputs": [],
   "source": [
    "crep = classification_report(y_test, predictions)\n",
    "print(crep)"
   ]
  },
  {
   "cell_type": "code",
   "execution_count": null,
   "metadata": {},
   "outputs": [],
   "source": []
  },
  {
   "cell_type": "code",
   "execution_count": null,
   "metadata": {},
   "outputs": [],
   "source": []
  },
  {
   "cell_type": "markdown",
   "metadata": {},
   "source": [
    "### Direct cross validation (Random Forest)"
   ]
  },
  {
   "cell_type": "code",
   "execution_count": null,
   "metadata": {},
   "outputs": [],
   "source": [
    "features = ['week_1',\n",
    "       'week_2', 'week_3', 'week_4', 'week_5', 'week_6', 'week_7', 'week_8',\n",
    "       'week_9', 'week_10', 'week_11', 'week_12', 'week_13', 'week_14',\n",
    "       'week_15', 'week_16', 'week_17', 'week_18', 'week_19', 'cod_canal', 'cod_giro', 'cod_subgiro',\n",
    "       'desc_region', 'desc_subregion', 'desc_division', 'cod_zona', 'ruta',\n",
    "       'cod_modulo', 'categoria', 'marca', 'desc_sabor', 'desc_tipoenvase',\n",
    "       'desc_subfamilia', 'contenido',\n",
    "       'product_sales_amount_last_3m', 'product_trnx_last_3m',\n",
    "       'normalized_rotation', 'normalized_freq', 'total_sales_last_3m',\n",
    "       'total_trnx_last_3m', 'ratio_sales_last_3m', 'ratio_trnx_last_3m',\n",
    "       'bought_last_year_flag', 'prod_coverage_bucket']"
   ]
  },
  {
   "cell_type": "code",
   "execution_count": null,
   "metadata": {},
   "outputs": [],
   "source": [
    "model = RandomForestClassifier()"
   ]
  },
  {
   "cell_type": "code",
   "execution_count": null,
   "metadata": {},
   "outputs": [],
   "source": [
    "X = data_tseries[features]\n",
    "y = data_tseries[\"bought_in_the_visit\"]"
   ]
  },
  {
   "cell_type": "code",
   "execution_count": null,
   "metadata": {},
   "outputs": [],
   "source": [
    "seed = 7"
   ]
  },
  {
   "cell_type": "code",
   "execution_count": null,
   "metadata": {},
   "outputs": [],
   "source": [
    "kfold = KFold(n_splits=5, random_state=seed)"
   ]
  },
  {
   "cell_type": "code",
   "execution_count": null,
   "metadata": {},
   "outputs": [],
   "source": [
    "results = cross_val_score(model, X, y, cv=kfold)"
   ]
  },
  {
   "cell_type": "code",
   "execution_count": null,
   "metadata": {},
   "outputs": [],
   "source": [
    "results"
   ]
  },
  {
   "cell_type": "code",
   "execution_count": null,
   "metadata": {},
   "outputs": [],
   "source": [
    "print(\"Accuracy: %.2f%%\" % (results.mean()*100))"
   ]
  },
  {
   "cell_type": "code",
   "execution_count": null,
   "metadata": {},
   "outputs": [],
   "source": [
    "model = RandomForestClassifier()"
   ]
  },
  {
   "cell_type": "code",
   "execution_count": null,
   "metadata": {},
   "outputs": [],
   "source": [
    "X = data_tseries[features]\n",
    "y = data_tseries[\"bought_in_the_visit\"]"
   ]
  },
  {
   "cell_type": "code",
   "execution_count": null,
   "metadata": {},
   "outputs": [],
   "source": [
    "seed = 7"
   ]
  },
  {
   "cell_type": "code",
   "execution_count": null,
   "metadata": {},
   "outputs": [],
   "source": [
    "kfold = KFold(n_splits=5, random_state=seed)"
   ]
  },
  {
   "cell_type": "code",
   "execution_count": null,
   "metadata": {},
   "outputs": [],
   "source": [
    "starttime = timeit.default_timer()\n",
    "print(\"The start time is :\",starttime)\n",
    "\n",
    "results = cross_val_score(model, X, y, scoring='roc_auc',cv=kfold)\n",
    "\n",
    "print(\"Total training time is :\", timeit.default_timer() - starttime)"
   ]
  },
  {
   "cell_type": "code",
   "execution_count": null,
   "metadata": {},
   "outputs": [],
   "source": [
    "results"
   ]
  },
  {
   "cell_type": "code",
   "execution_count": null,
   "metadata": {},
   "outputs": [],
   "source": [
    "print(\"AUC: %.2f%%\" % (results.mean()*100))"
   ]
  },
  {
   "cell_type": "code",
   "execution_count": null,
   "metadata": {},
   "outputs": [],
   "source": []
  },
  {
   "cell_type": "code",
   "execution_count": null,
   "metadata": {},
   "outputs": [],
   "source": []
  },
  {
   "cell_type": "markdown",
   "metadata": {},
   "source": [
    "### Direct held out (last 2 months) (Random Forest)"
   ]
  },
  {
   "cell_type": "code",
   "execution_count": 14,
   "metadata": {},
   "outputs": [],
   "source": [
    "features = ['week_1',\n",
    "       'week_2', 'week_3', 'week_4', 'week_5', 'week_6', 'week_7', 'week_8',\n",
    "       'week_9', 'week_10', 'week_11', 'week_12', 'week_13', 'week_14',\n",
    "       'week_15', 'week_16', 'week_17', 'week_18', 'week_19', 'cod_canal', 'cod_giro', 'cod_subgiro',\n",
    "       'desc_region', 'desc_subregion', 'desc_division', 'cod_zona', 'ruta',\n",
    "       'cod_modulo', 'categoria', 'marca', 'desc_sabor', 'desc_tipoenvase',\n",
    "       'desc_subfamilia', 'contenido',\n",
    "       'product_sales_amount_last_3m', 'product_trnx_last_3m',\n",
    "       'normalized_rotation', 'normalized_freq', 'total_sales_last_3m',\n",
    "       'total_trnx_last_3m', 'ratio_sales_last_3m', 'ratio_trnx_last_3m',\n",
    "       'bought_last_year_flag', 'prod_coverage_bucket']"
   ]
  },
  {
   "cell_type": "code",
   "execution_count": 15,
   "metadata": {},
   "outputs": [],
   "source": [
    "data_tseries['fecha_de_visita_dt'] = pd.to_datetime(data_tseries['fecha_de_visita'], format=\"%Y-%m-%d\")"
   ]
  },
  {
   "cell_type": "code",
   "execution_count": 16,
   "metadata": {},
   "outputs": [
    {
     "data": {
      "text/plain": [
       "Timestamp('2021-05-31 00:00:00')"
      ]
     },
     "execution_count": 16,
     "metadata": {},
     "output_type": "execute_result"
    }
   ],
   "source": [
    "max(data_tseries['fecha_de_visita_dt'])"
   ]
  },
  {
   "cell_type": "code",
   "execution_count": 17,
   "metadata": {},
   "outputs": [],
   "source": [
    "train = data_tseries[data_tseries['fecha_de_visita_dt'] < pd.to_datetime('2021-03-31', format=\"%Y-%m-%d\")]"
   ]
  },
  {
   "cell_type": "code",
   "execution_count": 18,
   "metadata": {},
   "outputs": [],
   "source": [
    "test = data_tseries[data_tseries['fecha_de_visita_dt'] >= pd.to_datetime('2021-03-31', format=\"%Y-%m-%d\")]"
   ]
  },
  {
   "cell_type": "code",
   "execution_count": 19,
   "metadata": {},
   "outputs": [],
   "source": [
    "X_train = train[features]\n",
    "X_test = test[features]\n",
    "y_train = train[\"bought_in_the_visit\"]\n",
    "y_test = test[\"bought_in_the_visit\"]"
   ]
  },
  {
   "cell_type": "code",
   "execution_count": 20,
   "metadata": {},
   "outputs": [],
   "source": [
    "model = RandomForestClassifier()"
   ]
  },
  {
   "cell_type": "code",
   "execution_count": 21,
   "metadata": {},
   "outputs": [
    {
     "name": "stdout",
     "output_type": "stream",
     "text": [
      "The start time is : 124884.033134024\n",
      "Total training time is : 266.45971798800747\n"
     ]
    }
   ],
   "source": [
    "starttime = timeit.default_timer()\n",
    "print(\"The start time is :\",starttime)\n",
    "\n",
    "model.fit(X_train, y_train)\n",
    "\n",
    "print(\"Total training time is :\", timeit.default_timer() - starttime)"
   ]
  },
  {
   "cell_type": "code",
   "execution_count": 22,
   "metadata": {},
   "outputs": [],
   "source": [
    "y_pred = model.predict(X_test)\n",
    "y_pred_proba = model.predict_proba(X_test)"
   ]
  },
  {
   "cell_type": "code",
   "execution_count": 23,
   "metadata": {},
   "outputs": [],
   "source": [
    "predictions = [round(value) for value in y_pred]"
   ]
  },
  {
   "cell_type": "code",
   "execution_count": 24,
   "metadata": {},
   "outputs": [
    {
     "name": "stdout",
     "output_type": "stream",
     "text": [
      "Accuracy: 72.32%\n"
     ]
    }
   ],
   "source": [
    "accuracy = accuracy_score(y_test, predictions)\n",
    "print(\"Accuracy: %.2f%%\" % (accuracy * 100.0))"
   ]
  },
  {
   "cell_type": "code",
   "execution_count": 25,
   "metadata": {},
   "outputs": [
    {
     "name": "stdout",
     "output_type": "stream",
     "text": [
      "AUC: 73.01%\n"
     ]
    }
   ],
   "source": [
    "auc = roc_auc_score(y_test, y_pred_proba[:, 1])\n",
    "print(\"AUC: %.2f%%\" % (auc * 100.0))"
   ]
  },
  {
   "cell_type": "code",
   "execution_count": 26,
   "metadata": {},
   "outputs": [
    {
     "name": "stdout",
     "output_type": "stream",
     "text": [
      "[[275108  36162]\n",
      " [ 91516  58400]]\n"
     ]
    }
   ],
   "source": [
    "mtx = confusion_matrix(y_test, predictions)\n",
    "print(mtx)"
   ]
  },
  {
   "cell_type": "code",
   "execution_count": 27,
   "metadata": {},
   "outputs": [
    {
     "name": "stdout",
     "output_type": "stream",
     "text": [
      "              precision    recall  f1-score   support\n",
      "\n",
      "         0.0       0.75      0.88      0.81    311270\n",
      "         1.0       0.62      0.39      0.48    149916\n",
      "\n",
      "    accuracy                           0.72    461186\n",
      "   macro avg       0.68      0.64      0.64    461186\n",
      "weighted avg       0.71      0.72      0.70    461186\n",
      "\n"
     ]
    }
   ],
   "source": [
    "crep = classification_report(y_test, predictions)\n",
    "print(crep)"
   ]
  },
  {
   "cell_type": "code",
   "execution_count": null,
   "metadata": {},
   "outputs": [],
   "source": []
  },
  {
   "cell_type": "code",
   "execution_count": null,
   "metadata": {},
   "outputs": [],
   "source": []
  },
  {
   "cell_type": "code",
   "execution_count": null,
   "metadata": {},
   "outputs": [],
   "source": []
  },
  {
   "cell_type": "code",
   "execution_count": null,
   "metadata": {},
   "outputs": [],
   "source": []
  },
  {
   "cell_type": "code",
   "execution_count": null,
   "metadata": {},
   "outputs": [],
   "source": []
  },
  {
   "cell_type": "code",
   "execution_count": null,
   "metadata": {},
   "outputs": [],
   "source": []
  },
  {
   "cell_type": "code",
   "execution_count": null,
   "metadata": {},
   "outputs": [],
   "source": []
  },
  {
   "cell_type": "code",
   "execution_count": null,
   "metadata": {},
   "outputs": [],
   "source": []
  }
 ],
 "metadata": {
  "kernelspec": {
   "display_name": "Python 3",
   "language": "python",
   "name": "python3"
  },
  "language_info": {
   "codemirror_mode": {
    "name": "ipython",
    "version": 3
   },
   "file_extension": ".py",
   "mimetype": "text/x-python",
   "name": "python",
   "nbconvert_exporter": "python",
   "pygments_lexer": "ipython3",
   "version": "3.7.6"
  }
 },
 "nbformat": 4,
 "nbformat_minor": 4
}
