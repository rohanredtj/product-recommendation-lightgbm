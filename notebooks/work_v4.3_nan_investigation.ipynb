{
 "cells": [
  {
   "cell_type": "code",
   "execution_count": 1,
   "metadata": {},
   "outputs": [],
   "source": [
    "import pandas as pd"
   ]
  },
  {
   "cell_type": "code",
   "execution_count": 18,
   "metadata": {},
   "outputs": [],
   "source": [
    "CO_processed_path = '/home/ubuntu/workspace_rohan/project/data/processed/CO_processed.csv'\n",
    "CO_timeseries_path = '/home/ubuntu/workspace_rohan/project/data/processed/CO_timeseries.csv'"
   ]
  },
  {
   "cell_type": "code",
   "execution_count": 19,
   "metadata": {},
   "outputs": [],
   "source": [
    "data = pd.read_csv(CO_processed_path)\n",
    "data = data.drop([\"Unnamed: 0\"],axis=1)"
   ]
  },
  {
   "cell_type": "code",
   "execution_count": 20,
   "metadata": {},
   "outputs": [],
   "source": [
    "data['table_flag'] = 1"
   ]
  },
  {
   "cell_type": "code",
   "execution_count": 21,
   "metadata": {},
   "outputs": [
    {
     "data": {
      "text/html": [
       "<div>\n",
       "<style scoped>\n",
       "    .dataframe tbody tr th:only-of-type {\n",
       "        vertical-align: middle;\n",
       "    }\n",
       "\n",
       "    .dataframe tbody tr th {\n",
       "        vertical-align: top;\n",
       "    }\n",
       "\n",
       "    .dataframe thead th {\n",
       "        text-align: right;\n",
       "    }\n",
       "</style>\n",
       "<table border=\"1\" class=\"dataframe\">\n",
       "  <thead>\n",
       "    <tr style=\"text-align: right;\">\n",
       "      <th></th>\n",
       "      <th>yr_month</th>\n",
       "      <th>fecha_de_visita</th>\n",
       "      <th>visit_num</th>\n",
       "      <th>codigo_de_cliente</th>\n",
       "      <th>codigo_de_producto</th>\n",
       "      <th>cod_canal</th>\n",
       "      <th>cod_giro</th>\n",
       "      <th>cod_subgiro</th>\n",
       "      <th>desc_region</th>\n",
       "      <th>desc_subregion</th>\n",
       "      <th>...</th>\n",
       "      <th>product_trnx_last_3m</th>\n",
       "      <th>normalized_rotation</th>\n",
       "      <th>normalized_freq</th>\n",
       "      <th>total_sales_last_3m</th>\n",
       "      <th>total_trnx_last_3m</th>\n",
       "      <th>ratio_sales_last_3m</th>\n",
       "      <th>ratio_trnx_last_3m</th>\n",
       "      <th>bought_last_year_flag</th>\n",
       "      <th>prod_coverage_bucket</th>\n",
       "      <th>table_flag</th>\n",
       "    </tr>\n",
       "  </thead>\n",
       "  <tbody>\n",
       "    <tr>\n",
       "      <th>0</th>\n",
       "      <td>2021-02</td>\n",
       "      <td>2021-02-22</td>\n",
       "      <td>5</td>\n",
       "      <td>94156234</td>\n",
       "      <td>598795</td>\n",
       "      <td>2.0</td>\n",
       "      <td>140.0</td>\n",
       "      <td>141.0</td>\n",
       "      <td>0</td>\n",
       "      <td>2</td>\n",
       "      <td>...</td>\n",
       "      <td>5</td>\n",
       "      <td>0.214286</td>\n",
       "      <td>0.555556</td>\n",
       "      <td>1656929.40</td>\n",
       "      <td>12.0</td>\n",
       "      <td>0.041272</td>\n",
       "      <td>0.416667</td>\n",
       "      <td>0</td>\n",
       "      <td>1</td>\n",
       "      <td>1</td>\n",
       "    </tr>\n",
       "    <tr>\n",
       "      <th>1</th>\n",
       "      <td>2021-02</td>\n",
       "      <td>2021-02-25</td>\n",
       "      <td>3</td>\n",
       "      <td>9431428</td>\n",
       "      <td>509581</td>\n",
       "      <td>6.0</td>\n",
       "      <td>810.0</td>\n",
       "      <td>808.0</td>\n",
       "      <td>0</td>\n",
       "      <td>2</td>\n",
       "      <td>...</td>\n",
       "      <td>0</td>\n",
       "      <td>NaN</td>\n",
       "      <td>NaN</td>\n",
       "      <td>762578.61</td>\n",
       "      <td>9.0</td>\n",
       "      <td>0.000000</td>\n",
       "      <td>0.000000</td>\n",
       "      <td>0</td>\n",
       "      <td>1</td>\n",
       "      <td>1</td>\n",
       "    </tr>\n",
       "  </tbody>\n",
       "</table>\n",
       "<p>2 rows × 32 columns</p>\n",
       "</div>"
      ],
      "text/plain": [
       "  yr_month fecha_de_visita  visit_num  codigo_de_cliente  codigo_de_producto  \\\n",
       "0  2021-02      2021-02-22          5           94156234              598795   \n",
       "1  2021-02      2021-02-25          3            9431428              509581   \n",
       "\n",
       "   cod_canal  cod_giro  cod_subgiro  desc_region  desc_subregion  ...  \\\n",
       "0        2.0     140.0        141.0            0               2  ...   \n",
       "1        6.0     810.0        808.0            0               2  ...   \n",
       "\n",
       "   product_trnx_last_3m  normalized_rotation  normalized_freq  \\\n",
       "0                     5             0.214286         0.555556   \n",
       "1                     0                  NaN              NaN   \n",
       "\n",
       "   total_sales_last_3m  total_trnx_last_3m  ratio_sales_last_3m  \\\n",
       "0           1656929.40                12.0             0.041272   \n",
       "1            762578.61                 9.0             0.000000   \n",
       "\n",
       "   ratio_trnx_last_3m  bought_last_year_flag  prod_coverage_bucket  table_flag  \n",
       "0            0.416667                      0                     1           1  \n",
       "1            0.000000                      0                     1           1  \n",
       "\n",
       "[2 rows x 32 columns]"
      ]
     },
     "execution_count": 21,
     "metadata": {},
     "output_type": "execute_result"
    }
   ],
   "source": [
    "data.head(2)"
   ]
  },
  {
   "cell_type": "code",
   "execution_count": 22,
   "metadata": {},
   "outputs": [
    {
     "data": {
      "text/plain": [
       "(2883584, 32)"
      ]
     },
     "execution_count": 22,
     "metadata": {},
     "output_type": "execute_result"
    }
   ],
   "source": [
    "data.shape"
   ]
  },
  {
   "cell_type": "code",
   "execution_count": 23,
   "metadata": {},
   "outputs": [],
   "source": [
    "data_tseries = pd.read_csv(CO_timeseries_path)\n",
    "data_tseries = data_tseries.drop([\"Unnamed: 0\"],axis=1)"
   ]
  },
  {
   "cell_type": "code",
   "execution_count": 24,
   "metadata": {},
   "outputs": [
    {
     "data": {
      "text/plain": [
       "(3780431, 23)"
      ]
     },
     "execution_count": 24,
     "metadata": {},
     "output_type": "execute_result"
    }
   ],
   "source": [
    "data_tseries.shape"
   ]
  },
  {
   "cell_type": "code",
   "execution_count": 25,
   "metadata": {},
   "outputs": [],
   "source": [
    "data_tseries = pd.merge(data_tseries, data, how='left', left_on=['fecha_de_visita', 'codigo_de_cliente', 'codigo_de_producto'], right_on=['fecha_de_visita', 'codigo_de_cliente', 'codigo_de_producto'])\n"
   ]
  },
  {
   "cell_type": "code",
   "execution_count": 26,
   "metadata": {},
   "outputs": [
    {
     "data": {
      "text/html": [
       "<div>\n",
       "<style scoped>\n",
       "    .dataframe tbody tr th:only-of-type {\n",
       "        vertical-align: middle;\n",
       "    }\n",
       "\n",
       "    .dataframe tbody tr th {\n",
       "        vertical-align: top;\n",
       "    }\n",
       "\n",
       "    .dataframe thead th {\n",
       "        text-align: right;\n",
       "    }\n",
       "</style>\n",
       "<table border=\"1\" class=\"dataframe\">\n",
       "  <thead>\n",
       "    <tr style=\"text-align: right;\">\n",
       "      <th></th>\n",
       "      <th>fecha_de_visita</th>\n",
       "      <th>codigo_de_cliente</th>\n",
       "      <th>codigo_de_producto</th>\n",
       "      <th>week_1</th>\n",
       "      <th>week_2</th>\n",
       "      <th>week_3</th>\n",
       "      <th>week_4</th>\n",
       "      <th>week_5</th>\n",
       "      <th>week_6</th>\n",
       "      <th>week_7</th>\n",
       "      <th>...</th>\n",
       "      <th>product_trnx_last_3m</th>\n",
       "      <th>normalized_rotation</th>\n",
       "      <th>normalized_freq</th>\n",
       "      <th>total_sales_last_3m</th>\n",
       "      <th>total_trnx_last_3m</th>\n",
       "      <th>ratio_sales_last_3m</th>\n",
       "      <th>ratio_trnx_last_3m</th>\n",
       "      <th>bought_last_year_flag</th>\n",
       "      <th>prod_coverage_bucket</th>\n",
       "      <th>table_flag</th>\n",
       "    </tr>\n",
       "  </thead>\n",
       "  <tbody>\n",
       "    <tr>\n",
       "      <th>0</th>\n",
       "      <td>2020-12-04</td>\n",
       "      <td>94100001</td>\n",
       "      <td>508588</td>\n",
       "      <td>0</td>\n",
       "      <td>0</td>\n",
       "      <td>0</td>\n",
       "      <td>0</td>\n",
       "      <td>0</td>\n",
       "      <td>0</td>\n",
       "      <td>0</td>\n",
       "      <td>...</td>\n",
       "      <td>0.0</td>\n",
       "      <td>NaN</td>\n",
       "      <td>NaN</td>\n",
       "      <td>61400.0</td>\n",
       "      <td>7.0</td>\n",
       "      <td>0.0</td>\n",
       "      <td>0.0</td>\n",
       "      <td>0.0</td>\n",
       "      <td>5.0</td>\n",
       "      <td>1.0</td>\n",
       "    </tr>\n",
       "    <tr>\n",
       "      <th>1</th>\n",
       "      <td>2020-12-04</td>\n",
       "      <td>94100001</td>\n",
       "      <td>598913</td>\n",
       "      <td>0</td>\n",
       "      <td>0</td>\n",
       "      <td>0</td>\n",
       "      <td>0</td>\n",
       "      <td>0</td>\n",
       "      <td>0</td>\n",
       "      <td>0</td>\n",
       "      <td>...</td>\n",
       "      <td>NaN</td>\n",
       "      <td>NaN</td>\n",
       "      <td>NaN</td>\n",
       "      <td>NaN</td>\n",
       "      <td>NaN</td>\n",
       "      <td>NaN</td>\n",
       "      <td>NaN</td>\n",
       "      <td>NaN</td>\n",
       "      <td>NaN</td>\n",
       "      <td>NaN</td>\n",
       "    </tr>\n",
       "  </tbody>\n",
       "</table>\n",
       "<p>2 rows × 52 columns</p>\n",
       "</div>"
      ],
      "text/plain": [
       "  fecha_de_visita  codigo_de_cliente  codigo_de_producto  week_1  week_2  \\\n",
       "0      2020-12-04           94100001              508588       0       0   \n",
       "1      2020-12-04           94100001              598913       0       0   \n",
       "\n",
       "   week_3  week_4  week_5  week_6  week_7  ...  product_trnx_last_3m  \\\n",
       "0       0       0       0       0       0  ...                   0.0   \n",
       "1       0       0       0       0       0  ...                   NaN   \n",
       "\n",
       "   normalized_rotation  normalized_freq  total_sales_last_3m  \\\n",
       "0                  NaN              NaN              61400.0   \n",
       "1                  NaN              NaN                  NaN   \n",
       "\n",
       "   total_trnx_last_3m  ratio_sales_last_3m  ratio_trnx_last_3m  \\\n",
       "0                 7.0                  0.0                 0.0   \n",
       "1                 NaN                  NaN                 NaN   \n",
       "\n",
       "   bought_last_year_flag  prod_coverage_bucket  table_flag  \n",
       "0                    0.0                   5.0         1.0  \n",
       "1                    NaN                   NaN         NaN  \n",
       "\n",
       "[2 rows x 52 columns]"
      ]
     },
     "execution_count": 26,
     "metadata": {},
     "output_type": "execute_result"
    }
   ],
   "source": [
    "data_tseries.head(2)"
   ]
  },
  {
   "cell_type": "code",
   "execution_count": 27,
   "metadata": {},
   "outputs": [
    {
     "data": {
      "text/plain": [
       "(3780431, 52)"
      ]
     },
     "execution_count": 27,
     "metadata": {},
     "output_type": "execute_result"
    }
   ],
   "source": [
    "data_tseries.shape"
   ]
  },
  {
   "cell_type": "code",
   "execution_count": 28,
   "metadata": {},
   "outputs": [
    {
     "data": {
      "text/plain": [
       "(2883584, 52)"
      ]
     },
     "execution_count": 28,
     "metadata": {},
     "output_type": "execute_result"
    }
   ],
   "source": [
    "data_tseries[data_tseries['table_flag'].isnull()==False].shape"
   ]
  },
  {
   "cell_type": "code",
   "execution_count": 31,
   "metadata": {},
   "outputs": [
    {
     "data": {
      "text/plain": [
       "(896847, 52)"
      ]
     },
     "execution_count": 31,
     "metadata": {},
     "output_type": "execute_result"
    }
   ],
   "source": [
    "data_tseries[data_tseries['table_flag'].isnull()==True].shape"
   ]
  },
  {
   "cell_type": "code",
   "execution_count": 32,
   "metadata": {},
   "outputs": [],
   "source": [
    "data_tseries = data_tseries[data_tseries['table_flag'].isnull()==False]"
   ]
  },
  {
   "cell_type": "code",
   "execution_count": 33,
   "metadata": {},
   "outputs": [
    {
     "data": {
      "text/plain": [
       "fecha_de_visita                       0\n",
       "codigo_de_cliente                     0\n",
       "codigo_de_producto                    0\n",
       "week_1                                0\n",
       "week_2                                0\n",
       "week_3                                0\n",
       "week_4                                0\n",
       "week_5                                0\n",
       "week_6                                0\n",
       "week_7                                0\n",
       "week_8                                0\n",
       "week_9                                0\n",
       "week_10                               0\n",
       "week_11                               0\n",
       "week_12                               0\n",
       "week_13                               0\n",
       "week_14                               0\n",
       "week_15                               0\n",
       "week_16                               0\n",
       "week_17                               0\n",
       "week_18                               0\n",
       "week_19                               0\n",
       "week_20                               0\n",
       "yr_month                              0\n",
       "visit_num                             0\n",
       "cod_canal                             1\n",
       "cod_giro                              1\n",
       "cod_subgiro                           1\n",
       "desc_region                           0\n",
       "desc_subregion                        0\n",
       "desc_division                         0\n",
       "cod_zona                              1\n",
       "ruta                                  1\n",
       "cod_modulo                            1\n",
       "categoria                             0\n",
       "marca                                 0\n",
       "desc_sabor                            0\n",
       "desc_tipoenvase                       0\n",
       "desc_subfamilia                       0\n",
       "contenido                           180\n",
       "bought_in_the_visit                   0\n",
       "product_sales_amount_last_3m          0\n",
       "product_trnx_last_3m                  0\n",
       "normalized_rotation             1553388\n",
       "normalized_freq                 1553388\n",
       "total_sales_last_3m               16184\n",
       "total_trnx_last_3m                16184\n",
       "ratio_sales_last_3m               16184\n",
       "ratio_trnx_last_3m                16184\n",
       "bought_last_year_flag                 0\n",
       "prod_coverage_bucket                  0\n",
       "table_flag                            0\n",
       "dtype: int64"
      ]
     },
     "execution_count": 33,
     "metadata": {},
     "output_type": "execute_result"
    }
   ],
   "source": [
    "data_tseries.isnull().sum()"
   ]
  },
  {
   "cell_type": "code",
   "execution_count": 38,
   "metadata": {},
   "outputs": [
    {
     "data": {
      "text/plain": [
       "0          0.000000\n",
       "2          0.142857\n",
       "3          0.285714\n",
       "5          0.571429\n",
       "8          0.000000\n",
       "             ...   \n",
       "3780425    0.086957\n",
       "3780426    0.000000\n",
       "3780427    0.043478\n",
       "3780428    0.043478\n",
       "3780429    0.086957\n",
       "Name: ratio_trnx_last_3m, Length: 2883584, dtype: float64"
      ]
     },
     "execution_count": 38,
     "metadata": {},
     "output_type": "execute_result"
    }
   ],
   "source": [
    "data_tseries.ratio_trnx_last_3m"
   ]
  },
  {
   "cell_type": "code",
   "execution_count": 41,
   "metadata": {},
   "outputs": [
    {
     "data": {
      "text/plain": [
       "(2883584, 52)"
      ]
     },
     "execution_count": 41,
     "metadata": {},
     "output_type": "execute_result"
    }
   ],
   "source": [
    "data_tseries.shape"
   ]
  },
  {
   "cell_type": "code",
   "execution_count": 43,
   "metadata": {},
   "outputs": [
    {
     "data": {
      "text/plain": [
       "1553259"
      ]
     },
     "execution_count": 43,
     "metadata": {},
     "output_type": "execute_result"
    }
   ],
   "source": [
    "2883584-1330145-180"
   ]
  },
  {
   "cell_type": "code",
   "execution_count": 39,
   "metadata": {},
   "outputs": [],
   "source": [
    "data_tseries2 = data_tseries.dropna()"
   ]
  },
  {
   "cell_type": "code",
   "execution_count": 40,
   "metadata": {},
   "outputs": [
    {
     "data": {
      "text/plain": [
       "(1330145, 52)"
      ]
     },
     "execution_count": 40,
     "metadata": {},
     "output_type": "execute_result"
    }
   ],
   "source": [
    "data_tseries2.shape"
   ]
  },
  {
   "cell_type": "code",
   "execution_count": null,
   "metadata": {},
   "outputs": [],
   "source": []
  },
  {
   "cell_type": "code",
   "execution_count": null,
   "metadata": {},
   "outputs": [],
   "source": []
  },
  {
   "cell_type": "code",
   "execution_count": null,
   "metadata": {},
   "outputs": [],
   "source": []
  }
 ],
 "metadata": {
  "kernelspec": {
   "display_name": "Python 3",
   "language": "python",
   "name": "python3"
  },
  "language_info": {
   "codemirror_mode": {
    "name": "ipython",
    "version": 3
   },
   "file_extension": ".py",
   "mimetype": "text/x-python",
   "name": "python",
   "nbconvert_exporter": "python",
   "pygments_lexer": "ipython3",
   "version": "3.7.6"
  }
 },
 "nbformat": 4,
 "nbformat_minor": 4
}
